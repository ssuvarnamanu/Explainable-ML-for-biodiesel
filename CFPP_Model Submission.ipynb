{
 "cells": [
  {
   "cell_type": "code",
   "execution_count": 1,
   "metadata": {},
   "outputs": [],
   "source": [
    "\n",
    "# Importing the libraries\n",
    "import statsmodels.api as sm\n",
    "import numpy as np\n",
    "import matplotlib.pyplot as plt\n",
    "import seaborn as sns\n",
    "import pandas as pd\n",
    "from sklearn.model_selection import train_test_split\n",
    "from sklearn.feature_selection import VarianceThreshold"
   ]
  },
  {
   "cell_type": "code",
   "execution_count": 2,
   "metadata": {},
   "outputs": [],
   "source": [
    "# Importing the dataset\n",
    "data = pd.read_excel('CFPP_Jahirul.xlsx',sheet_name = 'Main')\n"
   ]
  },
  {
   "cell_type": "code",
   "execution_count": 3,
   "metadata": {},
   "outputs": [
    {
     "data": {
      "text/html": [
       "<div>\n",
       "<style scoped>\n",
       "    .dataframe tbody tr th:only-of-type {\n",
       "        vertical-align: middle;\n",
       "    }\n",
       "\n",
       "    .dataframe tbody tr th {\n",
       "        vertical-align: top;\n",
       "    }\n",
       "\n",
       "    .dataframe thead th {\n",
       "        text-align: right;\n",
       "    }\n",
       "</style>\n",
       "<table border=\"1\" class=\"dataframe\">\n",
       "  <thead>\n",
       "    <tr style=\"text-align: right;\">\n",
       "      <th></th>\n",
       "      <th>12:00</th>\n",
       "      <th>14:00</th>\n",
       "      <th>Below 14</th>\n",
       "      <th>16:00</th>\n",
       "      <th>16:01</th>\n",
       "      <th>18:00</th>\n",
       "      <th>18:01</th>\n",
       "      <th>18:02</th>\n",
       "      <th>18:03</th>\n",
       "      <th>20:00</th>\n",
       "      <th>20:01</th>\n",
       "      <th>Above 20</th>\n",
       "      <th>22:01</th>\n",
       "      <th>24:01</th>\n",
       "      <th>CFPP</th>\n",
       "    </tr>\n",
       "  </thead>\n",
       "  <tbody>\n",
       "    <tr>\n",
       "      <th>0</th>\n",
       "      <td>0.0</td>\n",
       "      <td>0.00</td>\n",
       "      <td>0.00</td>\n",
       "      <td>4.51</td>\n",
       "      <td>0.36</td>\n",
       "      <td>2.00</td>\n",
       "      <td>60.33</td>\n",
       "      <td>21.24</td>\n",
       "      <td>9.49</td>\n",
       "      <td>0.62</td>\n",
       "      <td>1.49</td>\n",
       "      <td>0.51</td>\n",
       "      <td>0.35</td>\n",
       "      <td>0.16</td>\n",
       "      <td>-8.8</td>\n",
       "    </tr>\n",
       "    <tr>\n",
       "      <th>1</th>\n",
       "      <td>0.0</td>\n",
       "      <td>0.00</td>\n",
       "      <td>0.00</td>\n",
       "      <td>11.81</td>\n",
       "      <td>0.12</td>\n",
       "      <td>2.13</td>\n",
       "      <td>27.35</td>\n",
       "      <td>57.74</td>\n",
       "      <td>0.63</td>\n",
       "      <td>0.34</td>\n",
       "      <td>0.33</td>\n",
       "      <td>0.14</td>\n",
       "      <td>0.00</td>\n",
       "      <td>0.14</td>\n",
       "      <td>-7.5</td>\n",
       "    </tr>\n",
       "    <tr>\n",
       "      <th>2</th>\n",
       "      <td>0.0</td>\n",
       "      <td>0.72</td>\n",
       "      <td>0.72</td>\n",
       "      <td>25.93</td>\n",
       "      <td>0.36</td>\n",
       "      <td>1.74</td>\n",
       "      <td>15.98</td>\n",
       "      <td>55.12</td>\n",
       "      <td>0.16</td>\n",
       "      <td>0.22</td>\n",
       "      <td>0.07</td>\n",
       "      <td>0.11</td>\n",
       "      <td>0.11</td>\n",
       "      <td>0.00</td>\n",
       "      <td>4.8</td>\n",
       "    </tr>\n",
       "    <tr>\n",
       "      <th>3</th>\n",
       "      <td>0.0</td>\n",
       "      <td>0.10</td>\n",
       "      <td>0.10</td>\n",
       "      <td>7.25</td>\n",
       "      <td>0.10</td>\n",
       "      <td>3.43</td>\n",
       "      <td>10.80</td>\n",
       "      <td>77.25</td>\n",
       "      <td>5.40</td>\n",
       "      <td>0.00</td>\n",
       "      <td>0.10</td>\n",
       "      <td>0.00</td>\n",
       "      <td>0.00</td>\n",
       "      <td>0.00</td>\n",
       "      <td>11.0</td>\n",
       "    </tr>\n",
       "    <tr>\n",
       "      <th>4</th>\n",
       "      <td>0.0</td>\n",
       "      <td>0.00</td>\n",
       "      <td>0.00</td>\n",
       "      <td>6.32</td>\n",
       "      <td>0.30</td>\n",
       "      <td>3.71</td>\n",
       "      <td>79.17</td>\n",
       "      <td>10.67</td>\n",
       "      <td>0.15</td>\n",
       "      <td>0.10</td>\n",
       "      <td>0.10</td>\n",
       "      <td>0.00</td>\n",
       "      <td>0.00</td>\n",
       "      <td>0.00</td>\n",
       "      <td>-10.2</td>\n",
       "    </tr>\n",
       "  </tbody>\n",
       "</table>\n",
       "</div>"
      ],
      "text/plain": [
       "   12:00   14:00  Below 14  16:00   16:01   18:00  18:01  18:02  18:03  20:00  \\\n",
       "0     0.0   0.00      0.00    4.51    0.36   2.00  60.33  21.24   9.49   0.62   \n",
       "1     0.0   0.00      0.00   11.81    0.12   2.13  27.35  57.74   0.63   0.34   \n",
       "2     0.0   0.72      0.72   25.93    0.36   1.74  15.98  55.12   0.16   0.22   \n",
       "3     0.0   0.10      0.10    7.25    0.10   3.43  10.80  77.25   5.40   0.00   \n",
       "4     0.0   0.00      0.00    6.32    0.30   3.71  79.17  10.67   0.15   0.10   \n",
       "\n",
       "   20:01  Above 20  22:01  24:01  CFPP  \n",
       "0   1.49      0.51   0.35   0.16  -8.8  \n",
       "1   0.33      0.14   0.00   0.14  -7.5  \n",
       "2   0.07      0.11   0.11   0.00   4.8  \n",
       "3   0.10      0.00   0.00   0.00  11.0  \n",
       "4   0.10      0.00   0.00   0.00 -10.2  "
      ]
     },
     "execution_count": 3,
     "metadata": {},
     "output_type": "execute_result"
    }
   ],
   "source": [
    "data.head()\n",
    "#data.shape\n",
    "#type(data)"
   ]
  },
  {
   "cell_type": "code",
   "execution_count": 4,
   "metadata": {},
   "outputs": [
    {
     "data": {
      "text/plain": [
       "267"
      ]
     },
     "execution_count": 4,
     "metadata": {},
     "output_type": "execute_result"
    }
   ],
   "source": [
    "len(data)"
   ]
  },
  {
   "cell_type": "code",
   "execution_count": 5,
   "metadata": {},
   "outputs": [],
   "source": [
    "X = data.drop(labels= ['CFPP','Below 14','24:01','Above 20'], axis=1)\n",
    "y = data['CFPP']\n"
   ]
  },
  {
   "cell_type": "code",
   "execution_count": 6,
   "metadata": {},
   "outputs": [
    {
     "data": {
      "text/plain": [
       "count    267.000000\n",
       "mean      -0.798502\n",
       "std        7.238197\n",
       "min      -20.000000\n",
       "25%       -6.000000\n",
       "50%       -2.000000\n",
       "75%        3.500000\n",
       "max       17.000000\n",
       "Name: CFPP, dtype: float64"
      ]
     },
     "execution_count": 6,
     "metadata": {},
     "output_type": "execute_result"
    }
   ],
   "source": [
    "# Descriptive statistics for each column\n",
    "y.describe()"
   ]
  },
  {
   "cell_type": "code",
   "execution_count": 7,
   "metadata": {},
   "outputs": [
    {
     "data": {
      "text/html": [
       "<div>\n",
       "<style scoped>\n",
       "    .dataframe tbody tr th:only-of-type {\n",
       "        vertical-align: middle;\n",
       "    }\n",
       "\n",
       "    .dataframe tbody tr th {\n",
       "        vertical-align: top;\n",
       "    }\n",
       "\n",
       "    .dataframe thead th {\n",
       "        text-align: right;\n",
       "    }\n",
       "</style>\n",
       "<table border=\"1\" class=\"dataframe\">\n",
       "  <thead>\n",
       "    <tr style=\"text-align: right;\">\n",
       "      <th></th>\n",
       "      <th>12:00</th>\n",
       "      <th>14:00</th>\n",
       "      <th>16:00</th>\n",
       "      <th>16:01</th>\n",
       "      <th>18:00</th>\n",
       "      <th>18:01</th>\n",
       "      <th>18:02</th>\n",
       "      <th>18:03</th>\n",
       "      <th>20:00</th>\n",
       "      <th>20:01</th>\n",
       "      <th>22:01</th>\n",
       "    </tr>\n",
       "  </thead>\n",
       "  <tbody>\n",
       "    <tr>\n",
       "      <th>count</th>\n",
       "      <td>267.000000</td>\n",
       "      <td>267.000000</td>\n",
       "      <td>267.000000</td>\n",
       "      <td>267.000000</td>\n",
       "      <td>267.000000</td>\n",
       "      <td>267.000000</td>\n",
       "      <td>267.000000</td>\n",
       "      <td>267.000000</td>\n",
       "      <td>267.000000</td>\n",
       "      <td>267.000000</td>\n",
       "      <td>267.000000</td>\n",
       "    </tr>\n",
       "    <tr>\n",
       "      <th>mean</th>\n",
       "      <td>0.237846</td>\n",
       "      <td>0.504710</td>\n",
       "      <td>15.719251</td>\n",
       "      <td>0.291835</td>\n",
       "      <td>4.551142</td>\n",
       "      <td>40.948315</td>\n",
       "      <td>26.282884</td>\n",
       "      <td>9.787172</td>\n",
       "      <td>0.381348</td>\n",
       "      <td>0.561835</td>\n",
       "      <td>0.185000</td>\n",
       "    </tr>\n",
       "    <tr>\n",
       "      <th>std</th>\n",
       "      <td>2.992665</td>\n",
       "      <td>1.462131</td>\n",
       "      <td>10.583535</td>\n",
       "      <td>0.797944</td>\n",
       "      <td>3.690107</td>\n",
       "      <td>17.361222</td>\n",
       "      <td>17.827417</td>\n",
       "      <td>15.760301</td>\n",
       "      <td>0.322834</td>\n",
       "      <td>1.874238</td>\n",
       "      <td>0.500423</td>\n",
       "    </tr>\n",
       "    <tr>\n",
       "      <th>min</th>\n",
       "      <td>0.000000</td>\n",
       "      <td>0.000000</td>\n",
       "      <td>1.400000</td>\n",
       "      <td>0.000000</td>\n",
       "      <td>0.150000</td>\n",
       "      <td>5.600000</td>\n",
       "      <td>0.700000</td>\n",
       "      <td>0.000000</td>\n",
       "      <td>0.000000</td>\n",
       "      <td>0.000000</td>\n",
       "      <td>0.000000</td>\n",
       "    </tr>\n",
       "    <tr>\n",
       "      <th>25%</th>\n",
       "      <td>0.000000</td>\n",
       "      <td>0.000000</td>\n",
       "      <td>6.990000</td>\n",
       "      <td>0.000000</td>\n",
       "      <td>3.000000</td>\n",
       "      <td>27.530000</td>\n",
       "      <td>10.910000</td>\n",
       "      <td>0.325000</td>\n",
       "      <td>0.210000</td>\n",
       "      <td>0.000000</td>\n",
       "      <td>0.000000</td>\n",
       "    </tr>\n",
       "    <tr>\n",
       "      <th>50%</th>\n",
       "      <td>0.000000</td>\n",
       "      <td>0.180000</td>\n",
       "      <td>12.580000</td>\n",
       "      <td>0.000000</td>\n",
       "      <td>4.000000</td>\n",
       "      <td>40.070000</td>\n",
       "      <td>21.340000</td>\n",
       "      <td>3.000000</td>\n",
       "      <td>0.340000</td>\n",
       "      <td>0.180000</td>\n",
       "      <td>0.000000</td>\n",
       "    </tr>\n",
       "    <tr>\n",
       "      <th>75%</th>\n",
       "      <td>0.000000</td>\n",
       "      <td>0.540000</td>\n",
       "      <td>21.310000</td>\n",
       "      <td>0.185000</td>\n",
       "      <td>4.540000</td>\n",
       "      <td>52.825000</td>\n",
       "      <td>36.280000</td>\n",
       "      <td>8.810000</td>\n",
       "      <td>0.480000</td>\n",
       "      <td>0.500000</td>\n",
       "      <td>0.200000</td>\n",
       "    </tr>\n",
       "    <tr>\n",
       "      <th>max</th>\n",
       "      <td>48.800000</td>\n",
       "      <td>17.200000</td>\n",
       "      <td>47.200000</td>\n",
       "      <td>6.650000</td>\n",
       "      <td>34.700000</td>\n",
       "      <td>82.000000</td>\n",
       "      <td>77.250000</td>\n",
       "      <td>82.200000</td>\n",
       "      <td>3.100000</td>\n",
       "      <td>16.800000</td>\n",
       "      <td>4.200000</td>\n",
       "    </tr>\n",
       "  </tbody>\n",
       "</table>\n",
       "</div>"
      ],
      "text/plain": [
       "           12:00        14:00      16:00       16:01        18:00       18:01  \\\n",
       "count  267.000000  267.000000  267.000000  267.000000  267.000000  267.000000   \n",
       "mean     0.237846    0.504710   15.719251    0.291835    4.551142   40.948315   \n",
       "std      2.992665    1.462131   10.583535    0.797944    3.690107   17.361222   \n",
       "min      0.000000    0.000000    1.400000    0.000000    0.150000    5.600000   \n",
       "25%      0.000000    0.000000    6.990000    0.000000    3.000000   27.530000   \n",
       "50%      0.000000    0.180000   12.580000    0.000000    4.000000   40.070000   \n",
       "75%      0.000000    0.540000   21.310000    0.185000    4.540000   52.825000   \n",
       "max     48.800000   17.200000   47.200000    6.650000   34.700000   82.000000   \n",
       "\n",
       "            18:02       18:03       20:00       20:01       22:01  \n",
       "count  267.000000  267.000000  267.000000  267.000000  267.000000  \n",
       "mean    26.282884    9.787172    0.381348    0.561835    0.185000  \n",
       "std     17.827417   15.760301    0.322834    1.874238    0.500423  \n",
       "min      0.700000    0.000000    0.000000    0.000000    0.000000  \n",
       "25%     10.910000    0.325000    0.210000    0.000000    0.000000  \n",
       "50%     21.340000    3.000000    0.340000    0.180000    0.000000  \n",
       "75%     36.280000    8.810000    0.480000    0.500000    0.200000  \n",
       "max     77.250000   82.200000    3.100000   16.800000    4.200000  "
      ]
     },
     "execution_count": 7,
     "metadata": {},
     "output_type": "execute_result"
    }
   ],
   "source": [
    "X.describe()"
   ]
  },
  {
   "cell_type": "code",
   "execution_count": 8,
   "metadata": {},
   "outputs": [],
   "source": [
    "# Splitting the dataset into the Training set and Test set\n",
    "\n",
    "X_train, X_test, y_train, y_test = train_test_split(X, y, test_size = 0.2, random_state = 0)\n"
   ]
  },
  {
   "cell_type": "code",
   "execution_count": 9,
   "metadata": {},
   "outputs": [
    {
     "data": {
      "text/plain": [
       "<AxesSubplot:>"
      ]
     },
     "execution_count": 9,
     "metadata": {},
     "output_type": "execute_result"
    },
    {
     "data": {
      "image/png": "[encoded data removed]",
      "text/plain": [
       "<Figure size 576x576 with 2 Axes>"
      ]
     },
     "metadata": {
      "needs_background": "light"
     },
     "output_type": "display_data"
    }
   ],
   "source": [
    "#Idenitfy corelated independent variables through heatmap\n",
    "corrmat = X_train.corr()\n",
    "fig, ax = plt.subplots()\n",
    "fig.set_size_inches(8,8)\n",
    "sns.heatmap(corrmat)"
   ]
  },
  {
   "cell_type": "code",
   "execution_count": 10,
   "metadata": {},
   "outputs": [
    {
     "data": {
      "text/plain": [
       "12:00     213\n",
       "14:00     213\n",
       "16:00     213\n",
       "16:01     213\n",
       "18:00     213\n",
       "18:01     213\n",
       "18:02     213\n",
       "18:03     213\n",
       "20:00     213\n",
       "20:01     213\n",
       "22:01     213\n",
       "dtype: int64"
      ]
     },
     "execution_count": 10,
     "metadata": {},
     "output_type": "execute_result"
    }
   ],
   "source": [
    "X_train.count()"
   ]
  },
  {
   "cell_type": "code",
   "execution_count": 11,
   "metadata": {},
   "outputs": [
    {
     "name": "stdout",
     "output_type": "stream",
     "text": [
      "The training R2 is:  0.7934401483192679\n",
      "The test R2 is:  0.8873404200955429\n",
      "MSE: 5.09\n",
      "RMSE of test set: 2.26\n",
      "RMSE of train set: 3.34\n",
      "The mean accuracy is:  0.39176195275167863\n"
     ]
    },
    {
     "data": {
      "image/png": "[encoded data removed]",
      "text/plain": [
       "<Figure size 432x288 with 1 Axes>"
      ]
     },
     "metadata": {
      "needs_background": "light"
     },
     "output_type": "display_data"
    }
   ],
   "source": [
    "# Fitting Multiple Linear Regression to the Training set\n",
    "from sklearn.linear_model import LinearRegression\n",
    "model = LinearRegression()\n",
    "model.fit(X_train, y_train)\n",
    "\n",
    "# Measure the R2 for training and test set\n",
    "model_score = model.score(X_train,y_train)\n",
    "print(\"The training R2 is: \", model.score(X_train, y_train))\n",
    "print(\"The test R2 is: \", model.score(X_test, y_test))\n",
    "\n",
    "# The mean squared error & Variance\n",
    "\n",
    "from sklearn.metrics import mean_squared_error\n",
    "from math import sqrt\n",
    "\n",
    "y_predicted = model.predict(X_test)\n",
    "y_predicted_train = model.predict(X_train)\n",
    "\n",
    "print(\"MSE: %.2f\"% mean_squared_error(y_test, y_predicted))\n",
    "print(\"RMSE of test set: %.2f\"% sqrt(mean_squared_error(y_test, y_predicted)))\n",
    "print(\"RMSE of train set: %.2f\"% sqrt(mean_squared_error(y_train, y_predicted_train)))\n",
    "\n",
    "#k-cross validation\n",
    "from sklearn.model_selection import cross_val_score\n",
    "accuracies = cross_val_score(estimator = model, X = X_train, y= y_train, cv=5)\n",
    "print(\"The mean accuracy is: \", accuracies.mean())\n",
    "\n",
    "#Plot the actual v/s predicted\n",
    "from sklearn.model_selection import cross_val_predict\n",
    "\n",
    "fig, ax = plt.subplots()\n",
    "ax.scatter(y_test, y_predicted, edgecolors=(0, 0, 0))\n",
    "ax.plot([y_test.min(), y_test.max()], [y_test.min(), y_test.max()], 'k--', lw=4)\n",
    "ax.set_xlabel('Actual')\n",
    "ax.set_ylabel('Predicted')\n",
    "ax.set_title(\"Ground Truth vs Predicted\")\n",
    "plt.show()"
   ]
  },
  {
   "cell_type": "code",
   "execution_count": 12,
   "metadata": {},
   "outputs": [
    {
     "name": "stdout",
     "output_type": "stream",
     "text": [
      "The training R2 is:  0.7137825057430623\n",
      "The test R2 is:  0.9127012177909327\n",
      "MSE: 3.94\n",
      "RMSE: 1.99\n",
      "The mean accuracy is:  0.6475397967821133\n"
     ]
    },
    {
     "data": {
      "image/png": "[encoded data removed]",
      "text/plain": [
       "<Figure size 432x288 with 1 Axes>"
      ]
     },
     "metadata": {
      "needs_background": "light"
     },
     "output_type": "display_data"
    }
   ],
   "source": [
    "# Fitting Support Vector Regression to the Training set\n",
    "\n",
    "from sklearn.svm import SVR\n",
    "model = SVR(C=10.0, cache_size=100, coef0=0.1, degree=2, epsilon=0.5,kernel = 'rbf')\n",
    "model.fit(X_train, y_train)\n",
    "\n",
    "#Measure the R2 for training and test set\n",
    "model_score = model.score(X_train,y_train)\n",
    "print(\"The training R2 is: \", model.score(X_train, y_train))\n",
    "print(\"The test R2 is: \", model.score(X_test, y_test))\n",
    "\n",
    "# The mean squared error & Variance\n",
    "\n",
    "from sklearn.metrics import mean_squared_error\n",
    "from math import sqrt\n",
    "\n",
    "y_predicted = model.predict(X_test)\n",
    "\n",
    "print(\"MSE: %.2f\"% mean_squared_error(y_test, y_predicted))\n",
    "print(\"RMSE: %.2f\"% sqrt(mean_squared_error(y_test, y_predicted)))\n",
    "\n",
    "\n",
    "#k-cross validation\n",
    "from sklearn.model_selection import cross_val_score\n",
    "accuracies = cross_val_score(estimator = model, X = X_train, y= y_train, cv=5)\n",
    "print(\"The mean accuracy is: \", accuracies.mean())\n",
    "\n",
    "\n",
    "#Plot the actual v/s predicted\n",
    "from sklearn.model_selection import cross_val_predict\n",
    "\n",
    "fig, ax = plt.subplots()\n",
    "ax.scatter(y_test, y_predicted, edgecolors=(0, 0, 0))\n",
    "ax.plot([y_test.min(), y_test.max()], [y_test.min(), y_test.max()], 'k--', lw=4)\n",
    "ax.set_xlabel('Actual')\n",
    "ax.set_ylabel('Predicted')\n",
    "ax.set_title(\"Ground Truth vs Predicted\")\n",
    "plt.show()"
   ]
  },
  {
   "cell_type": "code",
   "execution_count": null,
   "metadata": {},
   "outputs": [
    {
     "name": "stdout",
     "output_type": "stream",
     "text": [
      "Fitting 3 folds for each of 288 candidates, totalling 864 fits\n"
     ]
    },
    {
     "name": "stderr",
     "output_type": "stream",
     "text": [
      "[Parallel(n_jobs=-1)]: Using backend LokyBackend with 8 concurrent workers.\n",
      "[Parallel(n_jobs=-1)]: Done  34 tasks      | elapsed:   20.1s\n",
      "[Parallel(n_jobs=-1)]: Done 197 tasks      | elapsed: 29.4min\n"
     ]
    }
   ],
   "source": [
    "\"\"\"\"#Gridsearch SVR\n",
    "\n",
    "from sklearn.model_selection import GridSearchCV\n",
    "\n",
    "X_train, X_test, y_train, y_test = train_test_split(X, y, test_size = 0.2,random_state=22)\n",
    "model = SVR()\n",
    "param_grid = {'C': [0.1, 1, 10, 100], \n",
    "              'gamma': [1, 0.1, 0.01],\n",
    "              'degree':[2,3],\n",
    "              'epsilon':[0.1,0.5,1,10],\n",
    "              'kernel': ['linear','poly','rbf']} \n",
    "\n",
    "\n",
    "tuning = GridSearchCV(estimator=model, \n",
    "                          param_grid = param_grid,\n",
    "                          cv=3,\n",
    "                          verbose=1,\n",
    "                          n_jobs=-1)\n",
    "    \n",
    "tuning.fit(X_train, y_train)\n",
    "\n",
    "print(\"Best parameters:\")\n",
    "print(tuning.best_params_)"
   ]
  },
  {
   "cell_type": "code",
   "execution_count": 13,
   "metadata": {},
   "outputs": [
    {
     "name": "stdout",
     "output_type": "stream",
     "text": [
      "The training R2 is:  0.9674967184086937\n",
      "The test R2 is:  0.934292297186299\n",
      "MSE: 2.97\n",
      "RMSE: 1.72\n",
      "The mean accuracy is:  0.7176576852621219\n"
     ]
    },
    {
     "data": {
      "image/png": "[encoded data removed]",
      "text/plain": [
       "<Figure size 432x288 with 1 Axes>"
      ]
     },
     "metadata": {
      "needs_background": "light"
     },
     "output_type": "display_data"
    }
   ],
   "source": [
    "# Fitting RandomForest Regression to the Training set\n",
    "\n",
    "from sklearn.ensemble import RandomForestRegressor\n",
    "model =  RandomForestRegressor(n_estimators = 500,max_depth=20,random_state=0)\n",
    "model.fit(X_train, y_train)\n",
    "\n",
    "#Measure the R2 for training and test set\n",
    "model_score = model.score(X_train,y_train)\n",
    "print(\"The training R2 is: \", model.score(X_train, y_train))\n",
    "print(\"The test R2 is: \", model.score(X_test, y_test))\n",
    "\n",
    "from sklearn.metrics import mean_squared_error\n",
    "from math import sqrt\n",
    "\n",
    "\n",
    "y_predicted = model.predict(X_test)\n",
    "\n",
    "# The mean squared error & Variance\n",
    "print(\"MSE: %.2f\"% mean_squared_error(y_test, y_predicted))\n",
    "print(\"RMSE: %.2f\"% sqrt(mean_squared_error(y_test, y_predicted)))\n",
    "\n",
    "\n",
    "#k-cross validation\n",
    "from sklearn.model_selection import cross_val_score\n",
    "accuracies = cross_val_score(estimator = model, X = X_train, y= y_train, cv=5)\n",
    "print(\"The mean accuracy is: \", accuracies.mean())\n",
    "\n",
    "\n",
    "#Plot the actual v/s predicted\n",
    "from sklearn.model_selection import cross_val_predict\n",
    "\n",
    "fig, ax = plt.subplots()\n",
    "ax.scatter(y_test, y_predicted, edgecolors=(0, 0, 0))\n",
    "ax.plot([y_test.min(), y_test.max()], [y_test.min(), y_test.max()], 'k--', lw=4)\n",
    "ax.set_xlabel('Actual')\n",
    "ax.set_ylabel('Predicted')\n",
    "ax.set_title(\"Ground Truth vs Predicted\")\n",
    "plt.show()\n",
    "\n"
   ]
  },
  {
   "cell_type": "code",
   "execution_count": 14,
   "metadata": {},
   "outputs": [],
   "source": [
    "from xgboost import XGBRegressor"
   ]
  },
  {
   "cell_type": "code",
   "execution_count": 16,
   "metadata": {},
   "outputs": [
    {
     "name": "stdout",
     "output_type": "stream",
     "text": [
      "The training R2 is:  0.9997824018333265\n",
      "The test R2 is:  0.9026842894468464\n",
      "MSE: 4.40\n",
      "RMSE of test set: 2.10\n",
      "RMSE of train set: 0.11\n",
      "The mean accuracy is:  0.686828814749237\n"
     ]
    },
    {
     "data": {
      "image/png": "[encoded data removed]",
      "text/plain": [
       "<Figure size 432x288 with 1 Axes>"
      ]
     },
     "metadata": {
      "needs_background": "light"
     },
     "output_type": "display_data"
    }
   ],
   "source": [
    "# Fitting XGB Regression to the Training set\n",
    "\n",
    "model = XGBRegressor()\n",
    "\n",
    "model.fit(X_train, y_train)\n",
    "\n",
    "#Measure the R2 for training and test set\n",
    "model_score = model.score(X_train,y_train)\n",
    "print(\"The training R2 is: \", model.score(X_train, y_train))\n",
    "print(\"The test R2 is: \", model.score(X_test, y_test))\n",
    "\n",
    "from sklearn.metrics import mean_squared_error\n",
    "from math import sqrt\n",
    "\n",
    "\n",
    "y_predicted = model.predict(X_test)\n",
    "y_predicted_train = model.predict(X_train)\n",
    "\n",
    "# The mean squared error & Variance\n",
    "print(\"MSE: %.2f\"% mean_squared_error(y_test, y_predicted))\n",
    "print(\"RMSE of test set: %.2f\"% sqrt(mean_squared_error(y_test, y_predicted)))\n",
    "print(\"RMSE of train set: %.2f\"% sqrt(mean_squared_error(y_train, y_predicted_train)))\n",
    "\n",
    "\n",
    "#k-cross validation\n",
    "from sklearn.model_selection import cross_val_score\n",
    "accuracies = cross_val_score(estimator = model, X = X_train, y= y_train, cv=5)\n",
    "print(\"The mean accuracy is: \", accuracies.mean())\n",
    "\n",
    "\n",
    "#Plot the actual v/s predicted\n",
    "from sklearn.model_selection import cross_val_predict\n",
    "\n",
    "fig, ax = plt.subplots()\n",
    "ax.scatter(y_test, y_predicted, edgecolors=(0, 0, 0))\n",
    "ax.plot([y_test.min(), y_test.max()], [y_test.min(), y_test.max()], 'k--', lw=4)\n",
    "ax.set_xlabel('Actual')\n",
    "ax.set_ylabel('Predicted')\n",
    "ax.set_title(\"Ground Truth vs Predicted\")\n",
    "plt.show()\n"
   ]
  },
  {
   "cell_type": "code",
   "execution_count": 17,
   "metadata": {},
   "outputs": [],
   "source": [
    "#Grid search for XGB\n",
    "\n",
    "from sklearn.model_selection import GridSearchCV"
   ]
  },
  {
   "cell_type": "code",
   "execution_count": 18,
   "metadata": {},
   "outputs": [
    {
     "name": "stdout",
     "output_type": "stream",
     "text": [
      "Fitting 3 folds for each of 640 candidates, totalling 1920 fits\n",
      "Best parameters:\n",
      "{'colsample_bytree': 1, 'eta': 0.1, 'eval_metric': 'rmse', 'max_depth': 6, 'n_estimators': 100, 'seed': 42, 'subsample': 1}\n"
     ]
    }
   ],
   "source": [
    "X_train, X_test, y_train, y_test = train_test_split(X, y, test_size = 0.2,random_state=22)\n",
    "model = XGBRegressor()\n",
    "param_grid = {'eta':[0.05,0.1,0.15,0.2],\n",
    "                 'max_depth':[4,6,8,10],\n",
    "                 'subsample':[0.5,1],\n",
    "                 'colsample_bytree':[0.5,1],\n",
    "                 'eval_metric':['rmse'],\n",
    "                 'seed':[42],\n",
    "                 'n_estimators':np.arange(100,1001,100).tolist()}\n",
    "\n",
    "\n",
    "tuning = GridSearchCV(estimator=model, \n",
    "                          param_grid = param_grid,\n",
    "                          cv=3,\n",
    "                          verbose=1,\n",
    "                          n_jobs=-1)\n",
    "    \n",
    "tuning.fit(X_train, y_train)\n",
    "\n",
    "print(\"Best parameters:\")\n",
    "print(tuning.best_params_)"
   ]
  },
  {
   "cell_type": "code",
   "execution_count": 19,
   "metadata": {},
   "outputs": [
    {
     "name": "stdout",
     "output_type": "stream",
     "text": [
      "The training R2 is:  0.9990011859250938\n",
      "The test R2 is:  0.8775112413985005\n",
      "MSE: 5.73\n",
      "RMSE of test set: 2.39\n",
      "RMSE of train set: 0.23\n",
      "The mean accuracy is:  0.7258071890785821\n"
     ]
    },
    {
     "data": {
      "image/png": "[encoded data removed]",
      "text/plain": [
       "<Figure size 432x288 with 1 Axes>"
      ]
     },
     "metadata": {
      "needs_background": "light"
     },
     "output_type": "display_data"
    }
   ],
   "source": [
    "modelXGB = XGBRegressor(colsample_bytree = 1, eta = 0.1, eval_metric= 'rmse', max_depth= 6,\n",
    "                     n_estimators= 100, seed= 42, subsample= 1)\n",
    "\n",
    "modelXGB.fit(X_train, y_train)\n",
    "\n",
    "#Measure the R2 for training and test set\n",
    "model_score = modelXGB.score(X_train,y_train)\n",
    "print(\"The training R2 is: \", modelXGB.score(X_train, y_train))\n",
    "print(\"The test R2 is: \", modelXGB.score(X_test, y_test))\n",
    "\n",
    "from sklearn.metrics import mean_squared_error\n",
    "from math import sqrt\n",
    "\n",
    "\n",
    "y_predicted = modelXGB.predict(X_test)\n",
    "y_predicted_train = modelXGB.predict(X_train)\n",
    "\n",
    "# The mean squared error & Variance\n",
    "print(\"MSE: %.2f\"% mean_squared_error(y_test, y_predicted))\n",
    "print(\"RMSE of test set: %.2f\"% sqrt(mean_squared_error(y_test, y_predicted)))\n",
    "print(\"RMSE of train set: %.2f\"% sqrt(mean_squared_error(y_train, y_predicted_train)))\n",
    "\n",
    "\n",
    "#k-cross validation\n",
    "from sklearn.model_selection import cross_val_score\n",
    "accuracies = cross_val_score(estimator = modelXGB, X = X_train, y= y_train, cv=5)\n",
    "print(\"The mean accuracy is: \", accuracies.mean())\n",
    "\n",
    "\n",
    "#Plot the actual v/s predicted\n",
    "from sklearn.model_selection import cross_val_predict\n",
    "\n",
    "fig, ax = plt.subplots()\n",
    "ax.scatter(y_test, y_predicted, edgecolors=(0, 0, 0))\n",
    "ax.plot([y_test.min(), y_test.max()], [y_test.min(), y_test.max()], 'k--', lw=4)\n",
    "ax.set_xlabel('Actual')\n",
    "ax.set_ylabel('Predicted')\n",
    "ax.set_title(\"Ground Truth vs Predicted\")\n",
    "plt.show()\n"
   ]
  },
  {
   "cell_type": "code",
   "execution_count": 36,
   "metadata": {},
   "outputs": [
    {
     "name": "stdout",
     "output_type": "stream",
     "text": [
      "Fitting 3 folds for each of 150 candidates, totalling 450 fits\n"
     ]
    },
    {
     "name": "stderr",
     "output_type": "stream",
     "text": [
      "[Parallel(n_jobs=-1)]: Using backend LokyBackend with 8 concurrent workers.\n",
      "[Parallel(n_jobs=-1)]: Done  34 tasks      | elapsed:   15.3s\n",
      "[Parallel(n_jobs=-1)]: Done 184 tasks      | elapsed:   54.8s\n",
      "[Parallel(n_jobs=-1)]: Done 434 tasks      | elapsed:  2.1min\n"
     ]
    },
    {
     "name": "stdout",
     "output_type": "stream",
     "text": [
      "Best parameters:\n",
      "{'max_depth': 40, 'max_features': 'sqrt', 'min_samples_split': 2, 'n_estimators': 100}\n"
     ]
    },
    {
     "name": "stderr",
     "output_type": "stream",
     "text": [
      "[Parallel(n_jobs=-1)]: Done 450 out of 450 | elapsed:  2.1min finished\n"
     ]
    }
   ],
   "source": [
    "#Grid search for RF\n",
    "\n",
    "X_train, X_test, y_train, y_test = train_test_split(X, y, test_size = 0.2,random_state=22)\n",
    "model = RandomForestRegressor()\n",
    "param_grid = {'eta':[0.05,0.1,0.15,0.2],\n",
    "                 'max_depth':[4,6,8,10],\n",
    "                 'subsample':[0.5,1],\n",
    "                 'colsample_bytree':[0.5,1],\n",
    "                 'eval_metric':['rmse'],\n",
    "                 'seed':[42],\n",
    "                 'n_estimators':np.arange(100,1001,100).tolist()}\n",
    "\n",
    "\n",
    "param_grid={'n_estimators':np.arange(100,1001,100).tolist(),\n",
    "                'max_features':['sqrt'],\n",
    "                'max_depth':[20,40,60,80,None],\n",
    "                'min_samples_split':[2,6,10]}\n",
    "\n",
    "tuning = GridSearchCV(estimator=model, \n",
    "                          param_grid = param_grid,\n",
    "                          cv=3,\n",
    "                          verbose=1,\n",
    "                          n_jobs=-1)\n",
    "    \n",
    "\n",
    "tuning.fit(X_train, y_train)\n",
    "\n",
    "print(\"Best parameters:\")\n",
    "print(tuning.best_params_)"
   ]
  },
  {
   "cell_type": "code",
   "execution_count": 20,
   "metadata": {},
   "outputs": [
    {
     "name": "stdout",
     "output_type": "stream",
     "text": [
      "The training R2 is:  0.9677673577445044\n",
      "The test R2 is:  0.912200492022273\n",
      "MSE: 4.11\n",
      "RMSE of test set: 2.03\n",
      "RMSE of train set: 1.31\n",
      "The mean accuracy is:  0.7857483459454377\n"
     ]
    },
    {
     "data": {
      "image/png": "[encoded data removed]",
      "text/plain": [
       "<Figure size 432x288 with 1 Axes>"
      ]
     },
     "metadata": {
      "needs_background": "light"
     },
     "output_type": "display_data"
    }
   ],
   "source": [
    "modelRF = RandomForestRegressor(max_depth = 40, max_features = 'sqrt', min_samples_split = 2, n_estimators = 100)\n",
    "\n",
    "modelRF.fit(X_train, y_train)\n",
    "\n",
    "#Measure the R2 for training and test set\n",
    "model_score = modelRF.score(X_train,y_train)\n",
    "print(\"The training R2 is: \", modelRF.score(X_train, y_train))\n",
    "print(\"The test R2 is: \", modelRF.score(X_test, y_test))\n",
    "\n",
    "from sklearn.metrics import mean_squared_error\n",
    "from math import sqrt\n",
    "\n",
    "\n",
    "y_predicted = modelRF.predict(X_test)\n",
    "y_predicted_train = modelRF.predict(X_train)\n",
    "\n",
    "# The mean squared error & Variance\n",
    "print(\"MSE: %.2f\"% mean_squared_error(y_test, y_predicted))\n",
    "print(\"RMSE of test set: %.2f\"% sqrt(mean_squared_error(y_test, y_predicted)))\n",
    "print(\"RMSE of train set: %.2f\"% sqrt(mean_squared_error(y_train, y_predicted_train)))\n",
    "\n",
    "\n",
    "#k-cross validation\n",
    "from sklearn.model_selection import cross_val_score\n",
    "accuracies = cross_val_score(estimator = modelRF, X = X_train, y= y_train, cv=5)\n",
    "print(\"The mean accuracy is: \", accuracies.mean())\n",
    "\n",
    "\n",
    "#Plot the actual v/s predicted\n",
    "from sklearn.model_selection import cross_val_predict\n",
    "\n",
    "fig, ax = plt.subplots()\n",
    "ax.scatter(y_test, y_predicted, edgecolors=(0, 0, 0))\n",
    "ax.plot([y_test.min(), y_test.max()], [y_test.min(), y_test.max()], 'k--', lw=4)\n",
    "ax.set_xlabel('Actual')\n",
    "ax.set_ylabel('Predicted')\n",
    "ax.set_title(\"Ground Truth vs Predicted\")\n",
    "plt.show()"
   ]
  },
  {
   "cell_type": "markdown",
   "metadata": {},
   "source": [
    "# Perform Causal analytics - Accumulated Local Effects"
   ]
  },
  {
   "cell_type": "code",
   "execution_count": 21,
   "metadata": {},
   "outputs": [
    {
     "data": {
      "text/plain": [
       "Index(['12:00 ', '14:00', 'Below 14', '16:00 ', '16:01 ', '18:00', '18:01',\n",
       "       '18:02', '18:03', '20:00', '20:01', 'Above 20', '22:01'],\n",
       "      dtype='object')"
      ]
     },
     "execution_count": 21,
     "metadata": {},
     "output_type": "execute_result"
    }
   ],
   "source": [
    "names= data.columns[0:13]\n",
    "names"
   ]
  },
  {
   "cell_type": "code",
   "execution_count": 22,
   "metadata": {},
   "outputs": [],
   "source": [
    "from alibi.explainers import ALE, plot_ale"
   ]
  },
  {
   "cell_type": "code",
   "execution_count": 23,
   "metadata": {},
   "outputs": [],
   "source": [
    "rf_ale = ALE(modelRF.predict, feature_names = X_train.columns, target_names = ['CFPP'])\n",
    "rf_exp = rf_ale.explain(np.array(X_train))"
   ]
  },
  {
   "cell_type": "code",
   "execution_count": 24,
   "metadata": {},
   "outputs": [
    {
     "name": "stderr",
     "output_type": "stream",
     "text": [
      "No handles with labels found to put in legend.\n"
     ]
    },
    {
     "data": {
      "image/png": "[encoded data removed]",
      "text/plain": [
       "<Figure size 432x288 with 1 Axes>"
      ]
     },
     "metadata": {
      "needs_background": "light"
     },
     "output_type": "display_data"
    }
   ],
   "source": [
    "import matplotlib\n",
    "import matplotlib.pyplot as plt\n",
    "import matplotlib.ticker as ticker\n",
    "\n",
    "from cycler import cycler\n",
    "matplotlib.rcParams['font.sans-serif'] = 'Times New Roman'\n",
    "matplotlib.rcParams['axes.prop_cycle'] =  cycler(color =['g'])\n",
    "\n",
    "\n",
    "label_size = 20\n",
    "matplotlib.rcParams['xtick.labelsize'] = label_size \n",
    "matplotlib.rcParams['ytick.labelsize'] = label_size \n",
    "\n",
    "\n",
    "#matplotlib.rcParams['legend.loc'] = []\n",
    "\n",
    "tick_spacing = 2\n",
    "\n",
    "fig, ax = plt.subplots()\n",
    "\n",
    "plot_ale(rf_exp,features = ['18:03'],ax=ax,line_kw={'label':'_nolegend_'})\n",
    "ax.set_xlabel('')\n",
    "ax.set_ylabel('')\n",
    "ax.set_xlim([0, 100])\n",
    "ax.set_ylim([-2, 2])\n",
    "ax.yaxis.set_major_locator(ticker.MultipleLocator(tick_spacing))\n",
    "\n",
    "#plt.savefig(\"CFPP_18_3.png\",dpi=300)"
   ]
  },
  {
   "cell_type": "markdown",
   "metadata": {},
   "source": [
    "# Shap analysis"
   ]
  },
  {
   "cell_type": "code",
   "execution_count": 25,
   "metadata": {},
   "outputs": [
    {
     "data": {
      "image/png": "[encoded data removed]",
      "text/plain": [
       "<Figure size 576x424.8 with 1 Axes>"
      ]
     },
     "metadata": {
      "needs_background": "light"
     },
     "output_type": "display_data"
    }
   ],
   "source": [
    "import shap\n",
    "shap_values = shap.TreeExplainer(modelRF).shap_values(X_train)\n",
    "shap.summary_plot(shap_values, X_train, plot_type=\"bar\")"
   ]
  },
  {
   "cell_type": "markdown",
   "metadata": {},
   "source": [
    "# Perform optimization - Prescriptive analytics"
   ]
  },
  {
   "cell_type": "code",
   "execution_count": 79,
   "metadata": {},
   "outputs": [],
   "source": [
    "from pyswarm import pso"
   ]
  },
  {
   "cell_type": "code",
   "execution_count": 84,
   "metadata": {},
   "outputs": [
    {
     "name": "stdout",
     "output_type": "stream",
     "text": [
      "Stopping search: maximum iterations reached --> 100\n",
      "[ 0.71277145  0.08853871  2.14778232  0.6665943   1.53925172 11.89381784\n",
      " 32.99836876 44.77926887  0.21127622  4.90792392  0.6067302 ] [-11.47]\n",
      "100.5523243102684\n",
      "Stopping search: maximum iterations reached --> 100\n",
      "[2.60815639e-01 1.60260782e-01 1.94840125e+00 5.97199300e-01\n",
      " 1.36193532e-02 1.44382473e+00 4.11745369e+01 5.11316135e+01\n",
      " 5.01162294e-01 2.71651708e+00 6.76154279e-01] [-11.23]\n",
      "100.62410517115903\n",
      "Stopping search: maximum iterations reached --> 100\n",
      "[ 0.39082683  0.11899867  0.34152633  0.15817656  0.55665583 55.35914621\n",
      " 16.81706021 20.10837343  0.50744576  5.5679414   0.54557633] [-12.593]\n",
      "100.47172755167364\n",
      "Stopping search: maximum iterations reached --> 100\n",
      "[ 0.53273781  0.23042632  8.22144668  0.4553596   1.1233318  26.41251937\n",
      " 19.46788024 41.79021275  0.69047463  1.06644764  0.74395297] [-10.193]\n",
      "100.73478980719727\n",
      "Stopping search: maximum iterations reached --> 100\n",
      "[5.22071281e-01 8.47082963e-01 3.54239998e+00 3.60627899e-01\n",
      " 1.15608623e+00 2.29157668e+01 5.76598244e+01 9.35524390e+00\n",
      " 4.37057335e-02 3.55239590e+00 6.78397116e-01] [-8.814]\n",
      "100.63360227203741\n"
     ]
    }
   ],
   "source": [
    "def objective(x):\n",
    "    x1=x[0]\n",
    "    x2=x[1]\n",
    "    x3=x[2]\n",
    "    x4=x[3]\n",
    "    x5=x[4]\n",
    "    x6=x[5]\n",
    "    x7=x[6]\n",
    "    x8=x[7]\n",
    "    x9=x[8]\n",
    "    x10=x[9]\n",
    "   \n",
    "    \n",
    "    x11 = 100-(x[0]+x[1]+x[2]+x[3]+x[4]+x[5]+x[6]+x[7]+x[8]+x[9])\n",
    "    \n",
    "    if x11<0:\n",
    "        CV = 10000000\n",
    "    else:\n",
    "        CV = 0  \n",
    "    \n",
    "    X_optPSO = np.array ([x1,x2,x3,x4,x5,x6,x7,x8,x9,x10,x11]).reshape(1, -1)\n",
    "    \n",
    "    y_predoptPSO = modelRF.predict(X_optPSO) + CV\n",
    "    return (y_predoptPSO)\n",
    "    \n",
    "\n",
    "\n",
    "lb = [0, 0, 0, 0, 0, 0, 0, 0, 0, 0,0]\n",
    "ub = [1, 1,17, 1,5, 88,62,67,1, 7.5,1]\n",
    "      \n",
    "\n",
    "#Run multiple rounds of optimization to get a decent sense of the values \n",
    "for fopt in range(5):\n",
    "    xopt, fopt = pso(objective, lb, ub)\n",
    "    total = np.sum(xopt)\n",
    "                   \n",
    "    print(xopt, fopt)\n",
    "    print(total)\n"
   ]
  }
 ],
 "metadata": {
  "kernelspec": {
   "display_name": "Python 3",
   "language": "python",
   "name": "python3"
  },
  "language_info": {
   "codemirror_mode": {
    "name": "ipython",
    "version": 3
   },
   "file_extension": ".py",
   "mimetype": "text/x-python",
   "name": "python",
   "nbconvert_exporter": "python",
   "pygments_lexer": "ipython3",
   "version": "3.8.5"
  }
 },
 "nbformat": 4,
 "nbformat_minor": 2
}
