{
 "cells": [
  {
   "cell_type": "code",
   "execution_count": 1,
   "metadata": {},
   "outputs": [],
   "source": [
    "# Importing the other libraries\n",
    "\n",
    "import numpy as np\n",
    "import matplotlib.pyplot as plt\n",
    "import seaborn as sns\n",
    "import pandas as pd\n",
    "from sklearn.model_selection import train_test_split\n",
    "from sklearn.feature_selection import VarianceThreshold"
   ]
  },
  {
   "cell_type": "code",
   "execution_count": 2,
   "metadata": {},
   "outputs": [],
   "source": [
    "# Importing the dataset\n",
    "data = pd.read_excel('Biodiesel Raw Data _Jahirul.xlsx',sheet_name = 'Fuel RF')\n"
   ]
  },
  {
   "cell_type": "code",
   "execution_count": 3,
   "metadata": {},
   "outputs": [
    {
     "data": {
      "text/html": [
       "<div>\n",
       "<style scoped>\n",
       "    .dataframe tbody tr th:only-of-type {\n",
       "        vertical-align: middle;\n",
       "    }\n",
       "\n",
       "    .dataframe tbody tr th {\n",
       "        vertical-align: top;\n",
       "    }\n",
       "\n",
       "    .dataframe thead th {\n",
       "        text-align: right;\n",
       "    }\n",
       "</style>\n",
       "<table border=\"1\" class=\"dataframe\">\n",
       "  <thead>\n",
       "    <tr style=\"text-align: right;\">\n",
       "      <th></th>\n",
       "      <th>12:00</th>\n",
       "      <th>14:00</th>\n",
       "      <th>16:00</th>\n",
       "      <th>16:01</th>\n",
       "      <th>18:00</th>\n",
       "      <th>18:01</th>\n",
       "      <th>18:02</th>\n",
       "      <th>18:03</th>\n",
       "      <th>20:00</th>\n",
       "      <th>20:01</th>\n",
       "      <th>22:01</th>\n",
       "      <th>Cetan Number</th>\n",
       "    </tr>\n",
       "  </thead>\n",
       "  <tbody>\n",
       "    <tr>\n",
       "      <th>0</th>\n",
       "      <td>0.0</td>\n",
       "      <td>0.0</td>\n",
       "      <td>66.0</td>\n",
       "      <td>0.0</td>\n",
       "      <td>3.5</td>\n",
       "      <td>27.5</td>\n",
       "      <td>3.0</td>\n",
       "      <td>0.0</td>\n",
       "      <td>0.0</td>\n",
       "      <td>0.0</td>\n",
       "      <td>0.0</td>\n",
       "      <td>65.3</td>\n",
       "    </tr>\n",
       "    <tr>\n",
       "      <th>1</th>\n",
       "      <td>0.0</td>\n",
       "      <td>0.1</td>\n",
       "      <td>8.1</td>\n",
       "      <td>1.5</td>\n",
       "      <td>1.2</td>\n",
       "      <td>20.8</td>\n",
       "      <td>67.7</td>\n",
       "      <td>0.0</td>\n",
       "      <td>0.0</td>\n",
       "      <td>0.0</td>\n",
       "      <td>0.0</td>\n",
       "      <td>41.4</td>\n",
       "    </tr>\n",
       "    <tr>\n",
       "      <th>2</th>\n",
       "      <td>0.0</td>\n",
       "      <td>0.0</td>\n",
       "      <td>3.7</td>\n",
       "      <td>0.0</td>\n",
       "      <td>43.7</td>\n",
       "      <td>52.6</td>\n",
       "      <td>0.0</td>\n",
       "      <td>0.0</td>\n",
       "      <td>0.0</td>\n",
       "      <td>0.0</td>\n",
       "      <td>0.0</td>\n",
       "      <td>63.1</td>\n",
       "    </tr>\n",
       "    <tr>\n",
       "      <th>3</th>\n",
       "      <td>0.0</td>\n",
       "      <td>0.0</td>\n",
       "      <td>2.0</td>\n",
       "      <td>0.0</td>\n",
       "      <td>13.8</td>\n",
       "      <td>45.3</td>\n",
       "      <td>0.0</td>\n",
       "      <td>0.0</td>\n",
       "      <td>34.7</td>\n",
       "      <td>4.2</td>\n",
       "      <td>0.0</td>\n",
       "      <td>64.9</td>\n",
       "    </tr>\n",
       "    <tr>\n",
       "      <th>4</th>\n",
       "      <td>100.0</td>\n",
       "      <td>0.0</td>\n",
       "      <td>0.0</td>\n",
       "      <td>0.0</td>\n",
       "      <td>0.0</td>\n",
       "      <td>0.0</td>\n",
       "      <td>0.0</td>\n",
       "      <td>0.0</td>\n",
       "      <td>0.0</td>\n",
       "      <td>0.0</td>\n",
       "      <td>0.0</td>\n",
       "      <td>61.4</td>\n",
       "    </tr>\n",
       "  </tbody>\n",
       "</table>\n",
       "</div>"
      ],
      "text/plain": [
       "   12:00   14:00  16:00   16:01   18:00  18:01  18:02  18:03  20:00  20:01  \\\n",
       "0     0.0    0.0    66.0     0.0    3.5   27.5    3.0    0.0    0.0    0.0   \n",
       "1     0.0    0.1     8.1     1.5    1.2   20.8   67.7    0.0    0.0    0.0   \n",
       "2     0.0    0.0     3.7     0.0   43.7   52.6    0.0    0.0    0.0    0.0   \n",
       "3     0.0    0.0     2.0     0.0   13.8   45.3    0.0    0.0   34.7    4.2   \n",
       "4   100.0    0.0     0.0     0.0    0.0    0.0    0.0    0.0    0.0    0.0   \n",
       "\n",
       "   22:01  Cetan Number  \n",
       "0    0.0          65.3  \n",
       "1    0.0          41.4  \n",
       "2    0.0          63.1  \n",
       "3    0.0          64.9  \n",
       "4    0.0          61.4  "
      ]
     },
     "execution_count": 3,
     "metadata": {},
     "output_type": "execute_result"
    }
   ],
   "source": [
    "data.head()\n",
    "#data.shape\n",
    "#type(data)"
   ]
  },
  {
   "cell_type": "code",
   "execution_count": 4,
   "metadata": {},
   "outputs": [
    {
     "data": {
      "text/plain": [
       "202"
      ]
     },
     "execution_count": 4,
     "metadata": {},
     "output_type": "execute_result"
    }
   ],
   "source": [
    "len(data)"
   ]
  },
  {
   "cell_type": "code",
   "execution_count": 5,
   "metadata": {},
   "outputs": [],
   "source": [
    "X = data.drop(labels= ['Cetan Number'], axis=1)\n",
    "y = data['Cetan Number']\n"
   ]
  },
  {
   "cell_type": "code",
   "execution_count": 6,
   "metadata": {},
   "outputs": [
    {
     "data": {
      "text/plain": [
       "pandas.core.series.Series"
      ]
     },
     "execution_count": 6,
     "metadata": {},
     "output_type": "execute_result"
    }
   ],
   "source": [
    "type(y)"
   ]
  },
  {
   "cell_type": "code",
   "execution_count": 7,
   "metadata": {},
   "outputs": [
    {
     "data": {
      "text/plain": [
       "count    202.000000\n",
       "mean      54.865248\n",
       "std        8.534119\n",
       "min       25.500000\n",
       "25%       50.075000\n",
       "50%       55.800000\n",
       "75%       59.400000\n",
       "max       86.900000\n",
       "Name: Cetan Number, dtype: float64"
      ]
     },
     "execution_count": 7,
     "metadata": {},
     "output_type": "execute_result"
    }
   ],
   "source": [
    "# Descriptive statistics for each column\n",
    "y.describe()"
   ]
  },
  {
   "cell_type": "code",
   "execution_count": 8,
   "metadata": {},
   "outputs": [
    {
     "data": {
      "text/html": [
       "<div>\n",
       "<style scoped>\n",
       "    .dataframe tbody tr th:only-of-type {\n",
       "        vertical-align: middle;\n",
       "    }\n",
       "\n",
       "    .dataframe tbody tr th {\n",
       "        vertical-align: top;\n",
       "    }\n",
       "\n",
       "    .dataframe thead th {\n",
       "        text-align: right;\n",
       "    }\n",
       "</style>\n",
       "<table border=\"1\" class=\"dataframe\">\n",
       "  <thead>\n",
       "    <tr style=\"text-align: right;\">\n",
       "      <th></th>\n",
       "      <th>12:00</th>\n",
       "      <th>14:00</th>\n",
       "      <th>16:00</th>\n",
       "      <th>16:01</th>\n",
       "      <th>18:00</th>\n",
       "      <th>18:01</th>\n",
       "      <th>18:02</th>\n",
       "      <th>18:03</th>\n",
       "      <th>20:00</th>\n",
       "      <th>20:01</th>\n",
       "      <th>22:01</th>\n",
       "    </tr>\n",
       "  </thead>\n",
       "  <tbody>\n",
       "    <tr>\n",
       "      <th>count</th>\n",
       "      <td>202.000000</td>\n",
       "      <td>202.000000</td>\n",
       "      <td>202.000000</td>\n",
       "      <td>202.000000</td>\n",
       "      <td>202.000000</td>\n",
       "      <td>202.000000</td>\n",
       "      <td>202.000000</td>\n",
       "      <td>202.000000</td>\n",
       "      <td>202.000000</td>\n",
       "      <td>202.000000</td>\n",
       "      <td>202.000000</td>\n",
       "    </tr>\n",
       "    <tr>\n",
       "      <th>mean</th>\n",
       "      <td>4.508465</td>\n",
       "      <td>3.665594</td>\n",
       "      <td>12.919554</td>\n",
       "      <td>1.413564</td>\n",
       "      <td>7.234653</td>\n",
       "      <td>40.786436</td>\n",
       "      <td>21.696386</td>\n",
       "      <td>2.945198</td>\n",
       "      <td>0.714109</td>\n",
       "      <td>1.045050</td>\n",
       "      <td>1.025248</td>\n",
       "    </tr>\n",
       "    <tr>\n",
       "      <th>std</th>\n",
       "      <td>16.304500</td>\n",
       "      <td>12.780162</td>\n",
       "      <td>12.773709</td>\n",
       "      <td>7.120541</td>\n",
       "      <td>12.621975</td>\n",
       "      <td>22.660352</td>\n",
       "      <td>21.940569</td>\n",
       "      <td>9.150285</td>\n",
       "      <td>4.451265</td>\n",
       "      <td>8.226749</td>\n",
       "      <td>8.069629</td>\n",
       "    </tr>\n",
       "    <tr>\n",
       "      <th>min</th>\n",
       "      <td>0.000000</td>\n",
       "      <td>0.000000</td>\n",
       "      <td>0.000000</td>\n",
       "      <td>0.000000</td>\n",
       "      <td>0.000000</td>\n",
       "      <td>0.000000</td>\n",
       "      <td>0.000000</td>\n",
       "      <td>0.000000</td>\n",
       "      <td>0.000000</td>\n",
       "      <td>0.000000</td>\n",
       "      <td>0.000000</td>\n",
       "    </tr>\n",
       "    <tr>\n",
       "      <th>25%</th>\n",
       "      <td>0.000000</td>\n",
       "      <td>0.000000</td>\n",
       "      <td>5.607500</td>\n",
       "      <td>0.000000</td>\n",
       "      <td>0.147500</td>\n",
       "      <td>23.400000</td>\n",
       "      <td>3.000000</td>\n",
       "      <td>0.000000</td>\n",
       "      <td>0.000000</td>\n",
       "      <td>0.000000</td>\n",
       "      <td>0.000000</td>\n",
       "    </tr>\n",
       "    <tr>\n",
       "      <th>50%</th>\n",
       "      <td>0.000000</td>\n",
       "      <td>0.050000</td>\n",
       "      <td>10.600000</td>\n",
       "      <td>0.000000</td>\n",
       "      <td>2.550000</td>\n",
       "      <td>40.800000</td>\n",
       "      <td>14.750000</td>\n",
       "      <td>0.120000</td>\n",
       "      <td>0.000000</td>\n",
       "      <td>0.000000</td>\n",
       "      <td>0.000000</td>\n",
       "    </tr>\n",
       "    <tr>\n",
       "      <th>75%</th>\n",
       "      <td>0.595000</td>\n",
       "      <td>0.230000</td>\n",
       "      <td>15.600000</td>\n",
       "      <td>2.675000</td>\n",
       "      <td>8.725000</td>\n",
       "      <td>58.250000</td>\n",
       "      <td>36.000000</td>\n",
       "      <td>0.377500</td>\n",
       "      <td>0.000000</td>\n",
       "      <td>0.000000</td>\n",
       "      <td>0.000000</td>\n",
       "    </tr>\n",
       "    <tr>\n",
       "      <th>max</th>\n",
       "      <td>100.000000</td>\n",
       "      <td>100.000000</td>\n",
       "      <td>100.000000</td>\n",
       "      <td>100.000000</td>\n",
       "      <td>100.000000</td>\n",
       "      <td>100.000000</td>\n",
       "      <td>100.000000</td>\n",
       "      <td>62.000000</td>\n",
       "      <td>34.700000</td>\n",
       "      <td>100.000000</td>\n",
       "      <td>100.000000</td>\n",
       "    </tr>\n",
       "  </tbody>\n",
       "</table>\n",
       "</div>"
      ],
      "text/plain": [
       "           12:00        14:00      16:00       16:01        18:00       18:01  \\\n",
       "count  202.000000  202.000000  202.000000  202.000000  202.000000  202.000000   \n",
       "mean     4.508465    3.665594   12.919554    1.413564    7.234653   40.786436   \n",
       "std     16.304500   12.780162   12.773709    7.120541   12.621975   22.660352   \n",
       "min      0.000000    0.000000    0.000000    0.000000    0.000000    0.000000   \n",
       "25%      0.000000    0.000000    5.607500    0.000000    0.147500   23.400000   \n",
       "50%      0.000000    0.050000   10.600000    0.000000    2.550000   40.800000   \n",
       "75%      0.595000    0.230000   15.600000    2.675000    8.725000   58.250000   \n",
       "max    100.000000  100.000000  100.000000  100.000000  100.000000  100.000000   \n",
       "\n",
       "            18:02       18:03       20:00       20:01       22:01  \n",
       "count  202.000000  202.000000  202.000000  202.000000  202.000000  \n",
       "mean    21.696386    2.945198    0.714109    1.045050    1.025248  \n",
       "std     21.940569    9.150285    4.451265    8.226749    8.069629  \n",
       "min      0.000000    0.000000    0.000000    0.000000    0.000000  \n",
       "25%      3.000000    0.000000    0.000000    0.000000    0.000000  \n",
       "50%     14.750000    0.120000    0.000000    0.000000    0.000000  \n",
       "75%     36.000000    0.377500    0.000000    0.000000    0.000000  \n",
       "max    100.000000   62.000000   34.700000  100.000000  100.000000  "
      ]
     },
     "execution_count": 8,
     "metadata": {},
     "output_type": "execute_result"
    }
   ],
   "source": [
    "X.describe()"
   ]
  },
  {
   "cell_type": "code",
   "execution_count": 9,
   "metadata": {},
   "outputs": [],
   "source": [
    "# Splitting the dataset into the Training set and Test set\n",
    "\n",
    "X_train, X_test, y_train, y_test = train_test_split(X, y, test_size = 0.2, random_state = 0)\n"
   ]
  },
  {
   "cell_type": "code",
   "execution_count": 10,
   "metadata": {},
   "outputs": [
    {
     "data": {
      "image/png": "[encoded data removed]",
      "text/plain": [
       "<Figure size 576x576 with 2 Axes>"
      ]
     },
     "metadata": {
      "needs_background": "light"
     },
     "output_type": "display_data"
    }
   ],
   "source": [
    "#Idenitfy corelated independent variables through heatmap\n",
    "corrmat = X_train.corr()\n",
    "fig, ax = plt.subplots()\n",
    "fig.set_size_inches(8,8)\n",
    "sns.heatmap(corrmat)\n",
    "\n",
    "plt.savefig(\"Heatmap.png\",dpi=300)"
   ]
  },
  {
   "cell_type": "code",
   "execution_count": 11,
   "metadata": {},
   "outputs": [
    {
     "data": {
      "text/plain": [
       "12:00     161\n",
       "14:00     161\n",
       "16:00     161\n",
       "16:01     161\n",
       "18:00     161\n",
       "18:01     161\n",
       "18:02     161\n",
       "18:03     161\n",
       "20:00     161\n",
       "20:01     161\n",
       "22:01     161\n",
       "dtype: int64"
      ]
     },
     "execution_count": 11,
     "metadata": {},
     "output_type": "execute_result"
    }
   ],
   "source": [
    "X_train.count()"
   ]
  },
  {
   "cell_type": "code",
   "execution_count": 12,
   "metadata": {},
   "outputs": [
    {
     "name": "stdout",
     "output_type": "stream",
     "text": [
      "The training R2 is:  0.8867122618901787\n",
      "The test R2 is:  0.827682390010044\n",
      "MSE: 15.80\n",
      "RMSE of test set: 3.98\n",
      "RMSE of train set: 2.76\n",
      "The mean accuracy is:  -0.49131976356663126\n"
     ]
    },
    {
     "data": {
      "image/png": "[encoded data removed]",
      "text/plain": [
       "<Figure size 432x288 with 1 Axes>"
      ]
     },
     "metadata": {
      "needs_background": "light"
     },
     "output_type": "display_data"
    }
   ],
   "source": [
    "# Fitting Multiple Linear Regression to the Training set\n",
    "from sklearn.linear_model import LinearRegression\n",
    "model = LinearRegression()\n",
    "model.fit(X_train, y_train)\n",
    "\n",
    "# Measure the R2 for training and test set\n",
    "model_score = model.score(X_train,y_train)\n",
    "print(\"The training R2 is: \", model.score(X_train, y_train))\n",
    "print(\"The test R2 is: \", model.score(X_test, y_test))\n",
    "\n",
    "# The mean squared error & Variance\n",
    "\n",
    "from sklearn.metrics import mean_squared_error\n",
    "from math import sqrt\n",
    "\n",
    "y_predicted = model.predict(X_test)\n",
    "y_predicted_train = model.predict(X_train)\n",
    "\n",
    "print(\"MSE: %.2f\"% mean_squared_error(y_test, y_predicted))\n",
    "print(\"RMSE of test set: %.2f\"% sqrt(mean_squared_error(y_test, y_predicted)))\n",
    "print(\"RMSE of train set: %.2f\"% sqrt(mean_squared_error(y_train, y_predicted_train)))\n",
    "\n",
    "#k-cross validation\n",
    "from sklearn.model_selection import cross_val_score\n",
    "accuracies = cross_val_score(estimator = model, X = X_train, y= y_train, cv=5)\n",
    "print(\"The mean accuracy is: \", accuracies.mean())\n",
    "\n",
    "#Plot the actual v/s predicted\n",
    "from sklearn.model_selection import cross_val_predict\n",
    "\n",
    "fig, ax = plt.subplots()\n",
    "ax.scatter(y_test, y_predicted, edgecolors=(0, 0, 0))\n",
    "ax.plot([y_test.min(), y_test.max()], [y_test.min(), y_test.max()], 'k--', lw=4)\n",
    "ax.set_xlabel('Actual')\n",
    "ax.set_ylabel('Predicted')\n",
    "ax.set_title(\"Ground Truth vs Predicted\")\n",
    "plt.show()\n"
   ]
  },
  {
   "cell_type": "code",
   "execution_count": 13,
   "metadata": {},
   "outputs": [
    {
     "name": "stdout",
     "output_type": "stream",
     "text": [
      "The training R2 is:  0.9067894361864021\n",
      "The test R2 is:  0.8048494192474822\n",
      "MSE: 17.89\n",
      "RMSE: 4.23\n",
      "RMSE of train set: 2.51\n",
      "The mean accuracy is:  0.7807684347171399\n"
     ]
    },
    {
     "data": {
      "image/png": "[encoded data removed]",
      "text/plain": [
       "<Figure size 432x288 with 1 Axes>"
      ]
     },
     "metadata": {
      "needs_background": "light"
     },
     "output_type": "display_data"
    }
   ],
   "source": [
    "# Fitting Support Vector Regression to the Training set\n",
    "\n",
    "from sklearn.svm import SVR\n",
    "model = SVR(C=10.0, cache_size=100, coef0=0.1, degree=2, epsilon=0.5,kernel = 'rbf')\n",
    "model.fit(X_train, y_train)\n",
    "\n",
    "#Measure the R2 for training and test set\n",
    "model_score = model.score(X_train,y_train)\n",
    "print(\"The training R2 is: \", model.score(X_train, y_train))\n",
    "print(\"The test R2 is: \", model.score(X_test, y_test))\n",
    "\n",
    "# The mean squared error & Variance\n",
    "\n",
    "from sklearn.metrics import mean_squared_error\n",
    "from math import sqrt\n",
    "\n",
    "y_predicted = model.predict(X_test)\n",
    "y_predicted_train = model.predict(X_train)\n",
    "\n",
    "print(\"MSE: %.2f\"% mean_squared_error(y_test, y_predicted))\n",
    "print(\"RMSE: %.2f\"% sqrt(mean_squared_error(y_test, y_predicted)))\n",
    "print(\"RMSE of train set: %.2f\"% sqrt(mean_squared_error(y_train, y_predicted_train)))\n",
    "\n",
    "#k-cross validation\n",
    "from sklearn.model_selection import cross_val_score\n",
    "accuracies = cross_val_score(estimator = model, X = X_train, y= y_train, cv=5)\n",
    "print(\"The mean accuracy is: \", accuracies.mean())\n",
    "\n",
    "\n",
    "#Plot the actual v/s predicted\n",
    "from sklearn.model_selection import cross_val_predict\n",
    "\n",
    "fig, ax = plt.subplots()\n",
    "ax.scatter(y_test, y_predicted, edgecolors=(0, 0, 0))\n",
    "ax.plot([y_test.min(), y_test.max()], [y_test.min(), y_test.max()], 'k--', lw=4)\n",
    "ax.set_xlabel('Actual')\n",
    "ax.set_ylabel('Predicted')\n",
    "ax.set_title(\"Ground Truth vs Predicted\")\n",
    "plt.show()"
   ]
  },
  {
   "cell_type": "code",
   "execution_count": null,
   "metadata": {},
   "outputs": [
    {
     "name": "stdout",
     "output_type": "stream",
     "text": [
      "Fitting 3 folds for each of 144 candidates, totalling 432 fits\n"
     ]
    },
    {
     "name": "stderr",
     "output_type": "stream",
     "text": [
      "[Parallel(n_jobs=-1)]: Using backend LokyBackend with 8 concurrent workers.\n"
     ]
    }
   ],
   "source": [
    "\"\"\"\"#Gridsearch SVR\n",
    "\n",
    "from sklearn.model_selection import GridSearchCV\n",
    "\n",
    "X_train, X_test, y_train, y_test = train_test_split(X, y, test_size = 0.2)\n",
    "model = SVR()\n",
    "param_grid = {'C': [0.1, 1, 10, 100], \n",
    "              'gamma': [1, 0.1, 0.01],\n",
    "              'epsilon':[0.1,0.5,1,10],\n",
    "              'kernel': ['linear','poly','rbf']} \n",
    "\n",
    "\n",
    "tuning = GridSearchCV(estimator=model, \n",
    "                          param_grid = param_grid,\n",
    "                          cv=3,\n",
    "                          verbose=1,\n",
    "                          n_jobs=-1)\n",
    "    \n",
    "tuning.fit(X_train, y_train)\n",
    "\n",
    "print(\"Best parameters:\")\n",
    "print(tuning.best_params_)\"\"\"\n"
   ]
  },
  {
   "cell_type": "code",
   "execution_count": 14,
   "metadata": {},
   "outputs": [
    {
     "name": "stdout",
     "output_type": "stream",
     "text": [
      "The training R2 is:  0.9414984094324335\n",
      "The test R2 is:  0.8580272488560874\n",
      "MSE: 13.02\n",
      "RMSE of test set: 3.61\n",
      "RMSE of train set: 1.99\n",
      "The mean accuracy is:  0.7408498547839982\n"
     ]
    },
    {
     "data": {
      "image/png": "[encoded data removed]",
      "text/plain": [
       "<Figure size 432x288 with 1 Axes>"
      ]
     },
     "metadata": {
      "needs_background": "light"
     },
     "output_type": "display_data"
    }
   ],
   "source": [
    "# Fitting RandomForest Regression to the Training set\n",
    "\n",
    "\n",
    "from sklearn.ensemble import RandomForestRegressor\n",
    "model =  RandomForestRegressor(n_estimators = 500, max_depth = 20, min_samples_split=2,\n",
    "                                min_samples_leaf=2)\n",
    "model.fit(X_train, y_train)\n",
    "\n",
    "\n",
    "#Measure the R2 for training and test set\n",
    "model_score = model.score(X_train,y_train)\n",
    "print(\"The training R2 is: \", model.score(X_train, y_train))\n",
    "print(\"The test R2 is: \", model.score(X_test, y_test))\n",
    "\n",
    "from sklearn.metrics import mean_squared_error\n",
    "from math import sqrt\n",
    "\n",
    "\n",
    "y_predicted = model.predict(X_test)\n",
    "y_predicted_train = model.predict(X_train)\n",
    "\n",
    "# The mean squared error & Variance\n",
    "print(\"MSE: %.2f\"% mean_squared_error(y_test, y_predicted))\n",
    "print(\"RMSE of test set: %.2f\"% sqrt(mean_squared_error(y_test, y_predicted)))\n",
    "print(\"RMSE of train set: %.2f\"% sqrt(mean_squared_error(y_train, y_predicted_train)))\n",
    "\n",
    "\n",
    "#k-cross validation\n",
    "from sklearn.model_selection import cross_val_score\n",
    "accuracies = cross_val_score(estimator = model, X = X_train, y= y_train, cv=5)\n",
    "print(\"The mean accuracy is: \", accuracies.mean())\n",
    "\n",
    "#Plot the actual v/s predicted\n",
    "from sklearn.model_selection import cross_val_predict\n",
    "\n",
    "fig, ax = plt.subplots()\n",
    "ax.scatter(y_test, y_predicted, edgecolors=(0, 0, 0))\n",
    "ax.plot([y_test.min(), y_test.max()], [y_test.min(), y_test.max()], 'k--', lw=4)\n",
    "ax.set_xlabel('Actual')\n",
    "ax.set_ylabel('Predicted')\n",
    "ax.set_title(\"Ground Truth vs Predicted\")\n",
    "plt.show()\n"
   ]
  },
  {
   "cell_type": "code",
   "execution_count": 15,
   "metadata": {},
   "outputs": [],
   "source": [
    "from lightgbm import LGBMRegressor\n",
    "from xgboost import XGBRegressor"
   ]
  },
  {
   "cell_type": "code",
   "execution_count": 17,
   "metadata": {},
   "outputs": [
    {
     "name": "stdout",
     "output_type": "stream",
     "text": [
      "The training R2 is:  0.9999989222810484\n",
      "The test R2 is:  0.9023073874594202\n",
      "MSE: 8.96\n",
      "RMSE of test set: 2.99\n",
      "RMSE of train set: 0.01\n",
      "The mean accuracy is:  0.727289218239745\n"
     ]
    },
    {
     "data": {
      "image/png": "[encoded data removed]",
      "text/plain": [
       "<Figure size 432x288 with 1 Axes>"
      ]
     },
     "metadata": {
      "needs_background": "light"
     },
     "output_type": "display_data"
    }
   ],
   "source": [
    "# Fitting XGB Regression to the Training set\n",
    "\n",
    "model = XGBRegressor()\n",
    "\n",
    "model.fit(X_train, y_train)\n",
    "\n",
    "#Measure the R2 for training and test set\n",
    "model_score = model.score(X_train,y_train)\n",
    "print(\"The training R2 is: \", model.score(X_train, y_train))\n",
    "print(\"The test R2 is: \", model.score(X_test, y_test))\n",
    "\n",
    "from sklearn.metrics import mean_squared_error\n",
    "from math import sqrt\n",
    "\n",
    "\n",
    "y_predicted = model.predict(X_test)\n",
    "y_predicted_train = model.predict(X_train)\n",
    "\n",
    "# The mean squared error & Variance\n",
    "print(\"MSE: %.2f\"% mean_squared_error(y_test, y_predicted))\n",
    "print(\"RMSE of test set: %.2f\"% sqrt(mean_squared_error(y_test, y_predicted)))\n",
    "print(\"RMSE of train set: %.2f\"% sqrt(mean_squared_error(y_train, y_predicted_train)))\n",
    "\n",
    "\n",
    "#k-cross validation\n",
    "from sklearn.model_selection import cross_val_score\n",
    "accuracies = cross_val_score(estimator = model, X = X_train, y= y_train, cv=5)\n",
    "print(\"The mean accuracy is: \", accuracies.mean())\n",
    "\n",
    "\n",
    "#Plot the actual v/s predicted\n",
    "from sklearn.model_selection import cross_val_predict\n",
    "\n",
    "fig, ax = plt.subplots()\n",
    "ax.scatter(y_test, y_predicted, edgecolors=(0, 0, 0))\n",
    "ax.plot([y_test.min(), y_test.max()], [y_test.min(), y_test.max()], 'k--', lw=4)\n",
    "ax.set_xlabel('Actual')\n",
    "ax.set_ylabel('Predicted')\n",
    "ax.set_title(\"Ground Truth vs Predicted\")\n",
    "plt.show()\n"
   ]
  },
  {
   "cell_type": "code",
   "execution_count": 18,
   "metadata": {},
   "outputs": [],
   "source": [
    "#Grid search for XGB\n",
    "\n",
    "from sklearn.model_selection import GridSearchCV"
   ]
  },
  {
   "cell_type": "code",
   "execution_count": 19,
   "metadata": {},
   "outputs": [
    {
     "name": "stdout",
     "output_type": "stream",
     "text": [
      "Fitting 3 folds for each of 640 candidates, totalling 1920 fits\n",
      "Best parameters:\n",
      "{'colsample_bytree': 1, 'eta': 0.15, 'eval_metric': 'rmse', 'max_depth': 4, 'n_estimators': 100, 'seed': 42, 'subsample': 1}\n"
     ]
    }
   ],
   "source": [
    "X_train, X_test, y_train, y_test = train_test_split(X, y, test_size = 0.2,random_state=22)\n",
    "model = XGBRegressor()\n",
    "param_grid = {'eta':[0.05,0.1,0.15,0.2],\n",
    "                 'max_depth':[4,6,8,10],\n",
    "                 'subsample':[0.5,1],\n",
    "                 'colsample_bytree':[0.5,1],\n",
    "                 'eval_metric':['rmse'],\n",
    "                 'seed':[42],\n",
    "                 'n_estimators':np.arange(100,1001,100).tolist()}\n",
    "\n",
    "\n",
    "tuning = GridSearchCV(estimator=model, \n",
    "                          param_grid = param_grid,\n",
    "                          cv=3,\n",
    "                          verbose=1,\n",
    "                          n_jobs=-1)\n",
    "    \n",
    "tuning.fit(X_train, y_train)\n",
    "\n",
    "print(\"Best parameters:\")\n",
    "print(tuning.best_params_)"
   ]
  },
  {
   "cell_type": "code",
   "execution_count": 20,
   "metadata": {},
   "outputs": [
    {
     "name": "stdout",
     "output_type": "stream",
     "text": [
      "The training R2 is:  0.99870555442571\n",
      "The test R2 is:  0.8971081350177621\n",
      "MSE: 5.62\n",
      "RMSE of test set: 2.37\n",
      "RMSE of train set: 0.32\n",
      "The mean accuracy is:  0.8180251738352112\n"
     ]
    },
    {
     "data": {
      "image/png": "[encoded data removed]",
      "text/plain": [
       "<Figure size 432x288 with 1 Axes>"
      ]
     },
     "metadata": {
      "needs_background": "light"
     },
     "output_type": "display_data"
    }
   ],
   "source": [
    "modelXGB = XGBRegressor(colsample_bytree = 1, eta = 0.15, eval_metric= 'rmse', max_depth= 4,\n",
    "                     n_estimators= 100, seed= 42, subsample= 1)\n",
    "\n",
    "modelXGB.fit(X_train, y_train)\n",
    "\n",
    "#Measure the R2 for training and test set\n",
    "model_score = modelXGB.score(X_train,y_train)\n",
    "print(\"The training R2 is: \", modelXGB.score(X_train, y_train))\n",
    "print(\"The test R2 is: \", modelXGB.score(X_test, y_test))\n",
    "\n",
    "from sklearn.metrics import mean_squared_error\n",
    "from math import sqrt\n",
    "\n",
    "\n",
    "y_predicted = modelXGB.predict(X_test)\n",
    "y_predicted_train = modelXGB.predict(X_train)\n",
    "\n",
    "# The mean squared error & Variance\n",
    "print(\"MSE: %.2f\"% mean_squared_error(y_test, y_predicted))\n",
    "print(\"RMSE of test set: %.2f\"% sqrt(mean_squared_error(y_test, y_predicted)))\n",
    "print(\"RMSE of train set: %.2f\"% sqrt(mean_squared_error(y_train, y_predicted_train)))\n",
    "\n",
    "\n",
    "#k-cross validation\n",
    "from sklearn.model_selection import cross_val_score\n",
    "accuracies = cross_val_score(estimator = modelXGB, X = X_train, y= y_train, cv=5)\n",
    "print(\"The mean accuracy is: \", accuracies.mean())\n",
    "\n",
    "\n",
    "#Plot the actual v/s predicted\n",
    "from sklearn.model_selection import cross_val_predict\n",
    "\n",
    "fig, ax = plt.subplots()\n",
    "ax.scatter(y_test, y_predicted, edgecolors=(0, 0, 0))\n",
    "ax.plot([y_test.min(), y_test.max()], [y_test.min(), y_test.max()], 'k--', lw=4)\n",
    "ax.set_xlabel('Actual')\n",
    "ax.set_ylabel('Predicted')\n",
    "ax.set_title(\"Ground Truth vs Predicted\")\n",
    "plt.show()\n"
   ]
  },
  {
   "cell_type": "code",
   "execution_count": null,
   "metadata": {},
   "outputs": [],
   "source": [
    "#Grid search for RF\n",
    "\n",
    "X_train, X_test, y_train, y_test = train_test_split(X, y, test_size = 0.2,random_state=22)\n",
    "model = RandomForestRegressor()\n",
    "param_grid = {'eta':[0.05,0.1,0.15,0.2],\n",
    "                 'max_depth':[4,6,8,10],\n",
    "                 'subsample':[0.5,1],\n",
    "                 'colsample_bytree':[0.5,1],\n",
    "                 'eval_metric':['rmse'],\n",
    "                 'seed':[42],\n",
    "                 'n_estimators':np.arange(100,1001,100).tolist()}\n",
    "\n",
    "\n",
    "param_grid={'n_estimators':np.arange(100,1001,100).tolist(),\n",
    "                'max_features':['sqrt'],\n",
    "                'max_depth':[20,40,60,80,None],\n",
    "                'min_samples_split':[2,6,10]}\n",
    "\n",
    "tuning = GridSearchCV(estimator=model, \n",
    "                          param_grid = param_grid,\n",
    "                          cv=3,\n",
    "                          verbose=1,\n",
    "                          n_jobs=-1)\n",
    "    \n",
    "\n",
    "tuning.fit(X_train, y_train)\n",
    "\n",
    "print(\"Best parameters:\")\n",
    "print(tuning.best_params_)"
   ]
  },
  {
   "cell_type": "code",
   "execution_count": 21,
   "metadata": {},
   "outputs": [
    {
     "name": "stdout",
     "output_type": "stream",
     "text": [
      "The training R2 is:  0.969100266641252\n",
      "The test R2 is:  0.8700345516911879\n",
      "MSE: 7.10\n",
      "RMSE of test set: 2.67\n",
      "RMSE of train set: 1.54\n",
      "The mean accuracy is:  0.7739488702563225\n"
     ]
    },
    {
     "data": {
      "image/png": "[encoded data removed]",
      "text/plain": [
       "<Figure size 432x288 with 1 Axes>"
      ]
     },
     "metadata": {
      "needs_background": "light"
     },
     "output_type": "display_data"
    }
   ],
   "source": [
    "modelRF = RandomForestRegressor(max_depth = None, max_features = 'sqrt', min_samples_split = 2, n_estimators = 100)\n",
    "\n",
    "modelRF.fit(X_train, y_train)\n",
    "\n",
    "#Measure the R2 for training and test set\n",
    "model_score = modelRF.score(X_train,y_train)\n",
    "print(\"The training R2 is: \", modelRF.score(X_train, y_train))\n",
    "print(\"The test R2 is: \", modelRF.score(X_test, y_test))\n",
    "\n",
    "from sklearn.metrics import mean_squared_error\n",
    "from math import sqrt\n",
    "\n",
    "\n",
    "y_predicted = modelRF.predict(X_test)\n",
    "y_predicted_train = modelRF.predict(X_train)\n",
    "\n",
    "# The mean squared error & Variance\n",
    "print(\"MSE: %.2f\"% mean_squared_error(y_test, y_predicted))\n",
    "print(\"RMSE of test set: %.2f\"% sqrt(mean_squared_error(y_test, y_predicted)))\n",
    "print(\"RMSE of train set: %.2f\"% sqrt(mean_squared_error(y_train, y_predicted_train)))\n",
    "\n",
    "\n",
    "#k-cross validation\n",
    "from sklearn.model_selection import cross_val_score\n",
    "accuracies = cross_val_score(estimator = modelRF, X = X_train, y= y_train, cv=5)\n",
    "print(\"The mean accuracy is: \", accuracies.mean())\n",
    "\n",
    "\n",
    "#Plot the actual v/s predicted\n",
    "from sklearn.model_selection import cross_val_predict\n",
    "\n",
    "fig, ax = plt.subplots()\n",
    "ax.scatter(y_test, y_predicted, edgecolors=(0, 0, 0))\n",
    "ax.plot([y_test.min(), y_test.max()], [y_test.min(), y_test.max()], 'k--', lw=4)\n",
    "ax.set_xlabel('Actual')\n",
    "ax.set_ylabel('Predicted')\n",
    "ax.set_title(\"Ground Truth vs Predicted\")\n",
    "plt.show()"
   ]
  },
  {
   "cell_type": "markdown",
   "metadata": {},
   "source": [
    "# Perform Causal analytics - Accumulated Local Effects"
   ]
  },
  {
   "cell_type": "code",
   "execution_count": 24,
   "metadata": {},
   "outputs": [],
   "source": [
    "from alibi.explainers import ALE, plot_ale"
   ]
  },
  {
   "cell_type": "code",
   "execution_count": null,
   "metadata": {},
   "outputs": [],
   "source": [
    "XGB_ale = ALE(modelXGB.predict, feature_names = X_train.columns, target_names = ['Cetan Number'])\n",
    "XGB_exp = XGB_ale.explain(np.array(X_train))"
   ]
  },
  {
   "cell_type": "code",
   "execution_count": 160,
   "metadata": {},
   "outputs": [
    {
     "name": "stderr",
     "output_type": "stream",
     "text": [
      "matplotlib.legend:WARNING: No handles with labels found to put in legend.\n"
     ]
    },
    {
     "data": {
      "image/png": "[encoded data removed]",
      "text/plain": [
       "<Figure size 432x288 with 1 Axes>"
      ]
     },
     "metadata": {
      "needs_background": "light"
     },
     "output_type": "display_data"
    }
   ],
   "source": [
    "import matplotlib\n",
    "import matplotlib.pyplot as plt\n",
    "import matplotlib.ticker as ticker\n",
    "\n",
    "from cycler import cycler\n",
    "matplotlib.rcParams['font.sans-serif'] = 'Times New Roman'\n",
    "matplotlib.rcParams['axes.prop_cycle'] =  cycler(color =['g'])\n",
    "\n",
    "\n",
    "label_size = 20\n",
    "matplotlib.rcParams['xtick.labelsize'] = label_size \n",
    "matplotlib.rcParams['ytick.labelsize'] = label_size \n",
    "\n",
    "\n",
    "#matplotlib.rcParams['legend.loc'] = []\n",
    "\n",
    "tick_spacing = 5\n",
    "\n",
    "fig, ax = plt.subplots()\n",
    "\n",
    "plot_ale(XGB_exp,features = ['22:01'],ax=ax,line_kw={'label':'_nolegend_'})\n",
    "ax.set_xlabel('')\n",
    "ax.set_ylabel('')\n",
    "ax.set_xlim([0, 100])\n",
    "ax.set_ylim([-5, 5])\n",
    "ax.yaxis.set_major_locator(ticker.MultipleLocator(tick_spacing))\n",
    "\n",
    "#plt.savefig(\"CN_22_1.png\",dpi=300)"
   ]
  },
  {
   "cell_type": "markdown",
   "metadata": {},
   "source": [
    "# Shap analysis"
   ]
  },
  {
   "cell_type": "code",
   "execution_count": 26,
   "metadata": {},
   "outputs": [
    {
     "data": {
      "image/png": "[encoded data removed]",
      "text/plain": [
       "<Figure size 576x424.8 with 1 Axes>"
      ]
     },
     "metadata": {
      "needs_background": "light"
     },
     "output_type": "display_data"
    }
   ],
   "source": [
    "import shap\n",
    "shap_values = shap.TreeExplainer(modelXGB).shap_values(X_train)\n",
    "shap.summary_plot(shap_values, X_train, plot_type=\"bar\")"
   ]
  },
  {
   "cell_type": "markdown",
   "metadata": {},
   "source": [
    "# Perform optimization - Prescriptive analytics"
   ]
  },
  {
   "cell_type": "code",
   "execution_count": 30,
   "metadata": {},
   "outputs": [],
   "source": [
    "from pyswarm import pso"
   ]
  },
  {
   "cell_type": "code",
   "execution_count": 31,
   "metadata": {},
   "outputs": [
    {
     "name": "stdout",
     "output_type": "stream",
     "text": [
      "Stopping search: maximum iterations reached --> 100\n",
      "[22.          0.80688699 20.          0.86343021 40.         19.31140791\n",
      "  0.          0.15171312  4.31919611  4.96835251  2.25056345] [-70.002625]\n",
      "Stopping search: maximum iterations reached --> 100\n",
      "[13.51353391  0.56322506 20.          1.         40.         19.68943582\n",
      "  0.13488939  0.74750598  0.34439094  1.63248094  3.90277503] [-70.614136]\n",
      "Stopping search: maximum iterations reached --> 100\n",
      "[ 9.2758738   0.53479703 20.          0.99825897 39.83395331 20.02612281\n",
      "  0.          0.49694638  3.52453275  5.          5.        ] [-70.17729]\n",
      "Stopping search: maximum iterations reached --> 100\n",
      "[22.          0.8745954  20.          0.478693   40.         23.52760184\n",
      "  0.          0.45168786  2.93478849  0.82704662  3.03377718] [-70.29779]\n",
      "Stopping search: maximum iterations reached --> 100\n",
      "[20.98831322  0.82824398 20.          0.63942918 38.14421836 19.23990721\n",
      "  0.          0.15586099  3.92698929  1.23493414  2.71331035] [-70.477455]\n",
      "Stopping search: maximum iterations reached --> 100\n",
      "[22.          0.60649264 20.          0.84126272 39.328911   19.07054136\n",
      "  0.1139263   0.29335042  0.34750448  0.92482596  3.98988259] [-70.614136]\n",
      "Stopping search: maximum iterations reached --> 100\n",
      "[ 9.22957558  0.83642533 19.99937002  0.51599514 39.47379643 24.42296875\n",
      "  0.          0.23253434  1.5461509   1.49734935  3.20560313] [-70.52992]\n",
      "Stopping search: maximum iterations reached --> 100\n",
      "[19.8978789   1.         20.          0.90312958 40.         25.\n",
      "  0.25035845  0.17047038  5.          1.42412251  0.26731056] [-70.29779]\n",
      "Stopping search: maximum iterations reached --> 100\n",
      "[22.          0.83015333 20.          0.85455209 33.98058755 19.11197972\n",
      "  0.          0.73045148  1.224247    1.99461612  0.94816251] [-70.477455]\n",
      "Stopping search: maximum iterations reached --> 100\n",
      "[ 9.57922434  0.68409141 19.96078495  0.78487015 40.         23.72675109\n",
      "  0.          0.63959469  2.28007334  1.49438559  2.66241203] [-70.52992]\n"
     ]
    }
   ],
   "source": [
    "def objective(x):\n",
    "    x1=x[0]\n",
    "    x2=x[1]\n",
    "    x3=x[2]\n",
    "    x4=x[3]\n",
    "    x5=x[4]\n",
    "    x6=x[5]\n",
    "    x7=x[6]\n",
    "    x8=x[7]\n",
    "    x9=x[8]\n",
    "    x10=x[9]\n",
    "    x11=x[10]\n",
    "   \n",
    "    \n",
    "    sum = 100-(x[0]+x[1]+x[2]+x[3]+x[4]+x[5]+x[6]+x[7]+x[8]+x[9]+x[10])\n",
    "    \n",
    "    if sum >0:\n",
    "        CV = 1000000000\n",
    "    else:\n",
    "        CV = 0  \n",
    "    \n",
    "    X_optPSO = np.array ([x1,x2,x3,x4,x5,x6,x7,x8,x9,x10,x11]).reshape(1, -1)\n",
    "    constraint_violoation = CV\n",
    "    \n",
    "    y_predoptPSO = modelXGB.predict(X_optPSO)\n",
    "    return -(y_predoptPSO)+ constraint_violoation\n",
    "    \n",
    "\n",
    "lb = [0, 0.5, 13, 0,20 ,15, 0, 0, 0, 0 ,0]\n",
    "ub = [22, 1, 20, 1,40, 25, 10, 5, 5, 5, 5 ]\n",
    "      \n",
    "\n",
    "#Run multiple rounds of optimization to get a decent sense of the values \n",
    "for fopt in range(10):\n",
    "    xopt, fopt = pso(objective, lb, ub)\n",
    "    \n",
    "    print(xopt, fopt)\n",
    " "
   ]
  }
 ],
 "metadata": {
  "kernelspec": {
   "display_name": "Python 3",
   "language": "python",
   "name": "python3"
  },
  "language_info": {
   "codemirror_mode": {
    "name": "ipython",
    "version": 3
   },
   "file_extension": ".py",
   "mimetype": "text/x-python",
   "name": "python",
   "nbconvert_exporter": "python",
   "pygments_lexer": "ipython3",
   "version": "3.8.5"
  }
 },
 "nbformat": 4,
 "nbformat_minor": 2
}
