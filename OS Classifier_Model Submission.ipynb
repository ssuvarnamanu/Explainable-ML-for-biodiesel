{
 "cells": [
  {
   "cell_type": "code",
   "execution_count": 2,
   "metadata": {},
   "outputs": [],
   "source": [
    "\n",
    "# Importing the libraries\n",
    "import statsmodels.api as sm\n",
    "import numpy as np\n",
    "import matplotlib.pyplot as plt\n",
    "import seaborn as sns\n",
    "import pandas as pd\n",
    "from sklearn.model_selection import train_test_split\n",
    "from sklearn.feature_selection import VarianceThreshold\n",
    "\n",
    "import shap\n",
    "from alibi.explainers import KernelShap"
   ]
  },
  {
   "cell_type": "code",
   "execution_count": 3,
   "metadata": {},
   "outputs": [],
   "source": [
    "# Importing the dataset\n",
    "data = pd.read_excel('Biodiesel Data_Jahirul_2.xlsx',sheet_name = 'OS')\n"
   ]
  },
  {
   "cell_type": "code",
   "execution_count": 4,
   "metadata": {},
   "outputs": [
    {
     "data": {
      "text/html": [
       "<div>\n",
       "<style scoped>\n",
       "    .dataframe tbody tr th:only-of-type {\n",
       "        vertical-align: middle;\n",
       "    }\n",
       "\n",
       "    .dataframe tbody tr th {\n",
       "        vertical-align: top;\n",
       "    }\n",
       "\n",
       "    .dataframe thead th {\n",
       "        text-align: right;\n",
       "    }\n",
       "</style>\n",
       "<table border=\"1\" class=\"dataframe\">\n",
       "  <thead>\n",
       "    <tr style=\"text-align: right;\">\n",
       "      <th></th>\n",
       "      <th>C14:0</th>\n",
       "      <th>C16:0</th>\n",
       "      <th>C18:1</th>\n",
       "      <th>C18:2</th>\n",
       "      <th>C18:3</th>\n",
       "      <th>C20:1</th>\n",
       "      <th>C22:1</th>\n",
       "      <th>O%</th>\n",
       "      <th>H%</th>\n",
       "      <th>ACL</th>\n",
       "      <th>ANDB</th>\n",
       "      <th>Saturation (wt%)</th>\n",
       "      <th>MOUSAF</th>\n",
       "      <th>PUSAF</th>\n",
       "      <th>Oxidation stability</th>\n",
       "      <th>OS</th>\n",
       "      <th>OS_EN</th>\n",
       "    </tr>\n",
       "  </thead>\n",
       "  <tbody>\n",
       "    <tr>\n",
       "      <th>0</th>\n",
       "      <td>0.0</td>\n",
       "      <td>4.40</td>\n",
       "      <td>20.70</td>\n",
       "      <td>15.90</td>\n",
       "      <td>54.60</td>\n",
       "      <td>0.00</td>\n",
       "      <td>0.0</td>\n",
       "      <td>10.90090</td>\n",
       "      <td>11.49950</td>\n",
       "      <td>17.934000</td>\n",
       "      <td>2.176056</td>\n",
       "      <td>8.80</td>\n",
       "      <td>20.70</td>\n",
       "      <td>70.50</td>\n",
       "      <td>0.2</td>\n",
       "      <td>0</td>\n",
       "      <td>0</td>\n",
       "    </tr>\n",
       "    <tr>\n",
       "      <th>1</th>\n",
       "      <td>0.0</td>\n",
       "      <td>5.30</td>\n",
       "      <td>16.60</td>\n",
       "      <td>13.70</td>\n",
       "      <td>62.10</td>\n",
       "      <td>0.00</td>\n",
       "      <td>0.0</td>\n",
       "      <td>10.92770</td>\n",
       "      <td>11.41210</td>\n",
       "      <td>17.892000</td>\n",
       "      <td>2.304000</td>\n",
       "      <td>7.50</td>\n",
       "      <td>16.70</td>\n",
       "      <td>75.80</td>\n",
       "      <td>0.2</td>\n",
       "      <td>0</td>\n",
       "      <td>0</td>\n",
       "    </tr>\n",
       "    <tr>\n",
       "      <th>2</th>\n",
       "      <td>0.0</td>\n",
       "      <td>5.18</td>\n",
       "      <td>19.04</td>\n",
       "      <td>16.12</td>\n",
       "      <td>54.54</td>\n",
       "      <td>0.07</td>\n",
       "      <td>0.2</td>\n",
       "      <td>10.77317</td>\n",
       "      <td>11.33802</td>\n",
       "      <td>17.908409</td>\n",
       "      <td>2.185260</td>\n",
       "      <td>8.63</td>\n",
       "      <td>19.41</td>\n",
       "      <td>70.66</td>\n",
       "      <td>0.4</td>\n",
       "      <td>0</td>\n",
       "      <td>0</td>\n",
       "    </tr>\n",
       "    <tr>\n",
       "      <th>3</th>\n",
       "      <td>0.0</td>\n",
       "      <td>3.56</td>\n",
       "      <td>10.57</td>\n",
       "      <td>14.64</td>\n",
       "      <td>59.20</td>\n",
       "      <td>0.90</td>\n",
       "      <td>0.0</td>\n",
       "      <td>9.97964</td>\n",
       "      <td>10.39886</td>\n",
       "      <td>17.941852</td>\n",
       "      <td>2.386600</td>\n",
       "      <td>6.18</td>\n",
       "      <td>11.47</td>\n",
       "      <td>73.84</td>\n",
       "      <td>0.4</td>\n",
       "      <td>0</td>\n",
       "      <td>0</td>\n",
       "    </tr>\n",
       "    <tr>\n",
       "      <th>4</th>\n",
       "      <td>0.0</td>\n",
       "      <td>6.20</td>\n",
       "      <td>25.20</td>\n",
       "      <td>63.10</td>\n",
       "      <td>0.30</td>\n",
       "      <td>0.20</td>\n",
       "      <td>0.1</td>\n",
       "      <td>10.88030</td>\n",
       "      <td>11.85550</td>\n",
       "      <td>17.921844</td>\n",
       "      <td>1.543984</td>\n",
       "      <td>10.80</td>\n",
       "      <td>25.60</td>\n",
       "      <td>63.40</td>\n",
       "      <td>0.8</td>\n",
       "      <td>0</td>\n",
       "      <td>0</td>\n",
       "    </tr>\n",
       "  </tbody>\n",
       "</table>\n",
       "</div>"
      ],
      "text/plain": [
       "   C14:0   C16:0   C18:1   C18:2   C18:3   C20:1   C22:1         O%        H%  \\\n",
       "0     0.0    4.40   20.70   15.90   54.60    0.00     0.0  10.90090  11.49950   \n",
       "1     0.0    5.30   16.60   13.70   62.10    0.00     0.0  10.92770  11.41210   \n",
       "2     0.0    5.18   19.04   16.12   54.54    0.07     0.2  10.77317  11.33802   \n",
       "3     0.0    3.56   10.57   14.64   59.20    0.90     0.0   9.97964  10.39886   \n",
       "4     0.0    6.20   25.20   63.10    0.30    0.20     0.1  10.88030  11.85550   \n",
       "\n",
       "         ACL      ANDB  Saturation (wt%)  MOUSAF  PUSAF  Oxidation stability  \\\n",
       "0  17.934000  2.176056              8.80   20.70  70.50                  0.2   \n",
       "1  17.892000  2.304000              7.50   16.70  75.80                  0.2   \n",
       "2  17.908409  2.185260              8.63   19.41  70.66                  0.4   \n",
       "3  17.941852  2.386600              6.18   11.47  73.84                  0.4   \n",
       "4  17.921844  1.543984             10.80   25.60  63.40                  0.8   \n",
       "\n",
       "   OS  OS_EN  \n",
       "0   0      0  \n",
       "1   0      0  \n",
       "2   0      0  \n",
       "3   0      0  \n",
       "4   0      0  "
      ]
     },
     "execution_count": 4,
     "metadata": {},
     "output_type": "execute_result"
    }
   ],
   "source": [
    "data.head()\n",
    "#data.shape\n",
    "#type(data)"
   ]
  },
  {
   "cell_type": "code",
   "execution_count": 5,
   "metadata": {},
   "outputs": [
    {
     "data": {
      "text/plain": [
       "217"
      ]
     },
     "execution_count": 5,
     "metadata": {},
     "output_type": "execute_result"
    }
   ],
   "source": [
    "len(data)"
   ]
  },
  {
   "cell_type": "code",
   "execution_count": 6,
   "metadata": {},
   "outputs": [],
   "source": [
    "X = data.drop(labels= ['Oxidation stability','OS','ACL','ANDB','Saturation (wt%)','MOUSAF','PUSAF','OS_EN','O%','H%'], axis=1)\n",
    "y = data['OS_EN']\n"
   ]
  },
  {
   "cell_type": "code",
   "execution_count": 7,
   "metadata": {},
   "outputs": [
    {
     "data": {
      "text/plain": [
       "count    217.000000\n",
       "mean       0.511521\n",
       "std        0.501023\n",
       "min        0.000000\n",
       "25%        0.000000\n",
       "50%        1.000000\n",
       "75%        1.000000\n",
       "max        1.000000\n",
       "Name: OS_EN, dtype: float64"
      ]
     },
     "execution_count": 7,
     "metadata": {},
     "output_type": "execute_result"
    }
   ],
   "source": [
    "# Descriptive statistics for each column\n",
    "y.describe()"
   ]
  },
  {
   "cell_type": "code",
   "execution_count": 8,
   "metadata": {},
   "outputs": [
    {
     "data": {
      "text/html": [
       "<div>\n",
       "<style scoped>\n",
       "    .dataframe tbody tr th:only-of-type {\n",
       "        vertical-align: middle;\n",
       "    }\n",
       "\n",
       "    .dataframe tbody tr th {\n",
       "        vertical-align: top;\n",
       "    }\n",
       "\n",
       "    .dataframe thead th {\n",
       "        text-align: right;\n",
       "    }\n",
       "</style>\n",
       "<table border=\"1\" class=\"dataframe\">\n",
       "  <thead>\n",
       "    <tr style=\"text-align: right;\">\n",
       "      <th></th>\n",
       "      <th>C14:0</th>\n",
       "      <th>C16:0</th>\n",
       "      <th>C18:1</th>\n",
       "      <th>C18:2</th>\n",
       "      <th>C18:3</th>\n",
       "      <th>C20:1</th>\n",
       "      <th>C22:1</th>\n",
       "    </tr>\n",
       "  </thead>\n",
       "  <tbody>\n",
       "    <tr>\n",
       "      <th>count</th>\n",
       "      <td>217.000000</td>\n",
       "      <td>217.000000</td>\n",
       "      <td>217.000000</td>\n",
       "      <td>217.000000</td>\n",
       "      <td>217.000000</td>\n",
       "      <td>217.000000</td>\n",
       "      <td>217.000000</td>\n",
       "    </tr>\n",
       "    <tr>\n",
       "      <th>mean</th>\n",
       "      <td>0.594332</td>\n",
       "      <td>14.806866</td>\n",
       "      <td>40.352765</td>\n",
       "      <td>27.479401</td>\n",
       "      <td>6.364747</td>\n",
       "      <td>0.442120</td>\n",
       "      <td>0.584977</td>\n",
       "    </tr>\n",
       "    <tr>\n",
       "      <th>std</th>\n",
       "      <td>2.020450</td>\n",
       "      <td>10.458299</td>\n",
       "      <td>19.402888</td>\n",
       "      <td>18.054380</td>\n",
       "      <td>12.026705</td>\n",
       "      <td>1.658024</td>\n",
       "      <td>3.308917</td>\n",
       "    </tr>\n",
       "    <tr>\n",
       "      <th>min</th>\n",
       "      <td>0.000000</td>\n",
       "      <td>0.900000</td>\n",
       "      <td>3.100000</td>\n",
       "      <td>0.700000</td>\n",
       "      <td>0.000000</td>\n",
       "      <td>0.000000</td>\n",
       "      <td>0.000000</td>\n",
       "    </tr>\n",
       "    <tr>\n",
       "      <th>25%</th>\n",
       "      <td>0.000000</td>\n",
       "      <td>6.200000</td>\n",
       "      <td>25.200000</td>\n",
       "      <td>12.700000</td>\n",
       "      <td>0.500000</td>\n",
       "      <td>0.000000</td>\n",
       "      <td>0.000000</td>\n",
       "    </tr>\n",
       "    <tr>\n",
       "      <th>50%</th>\n",
       "      <td>0.050000</td>\n",
       "      <td>11.810000</td>\n",
       "      <td>39.100000</td>\n",
       "      <td>23.290000</td>\n",
       "      <td>2.090000</td>\n",
       "      <td>0.000000</td>\n",
       "      <td>0.000000</td>\n",
       "    </tr>\n",
       "    <tr>\n",
       "      <th>75%</th>\n",
       "      <td>0.550000</td>\n",
       "      <td>19.920000</td>\n",
       "      <td>53.050000</td>\n",
       "      <td>40.610000</td>\n",
       "      <td>7.100000</td>\n",
       "      <td>0.120000</td>\n",
       "      <td>0.000000</td>\n",
       "    </tr>\n",
       "    <tr>\n",
       "      <th>max</th>\n",
       "      <td>18.740000</td>\n",
       "      <td>47.200000</td>\n",
       "      <td>82.000000</td>\n",
       "      <td>77.250000</td>\n",
       "      <td>62.100000</td>\n",
       "      <td>10.700000</td>\n",
       "      <td>25.600000</td>\n",
       "    </tr>\n",
       "  </tbody>\n",
       "</table>\n",
       "</div>"
      ],
      "text/plain": [
       "           C14:0       C16:0       C18:1       C18:2       C18:3       C20:1   \\\n",
       "count  217.000000  217.000000  217.000000  217.000000  217.000000  217.000000   \n",
       "mean     0.594332   14.806866   40.352765   27.479401    6.364747    0.442120   \n",
       "std      2.020450   10.458299   19.402888   18.054380   12.026705    1.658024   \n",
       "min      0.000000    0.900000    3.100000    0.700000    0.000000    0.000000   \n",
       "25%      0.000000    6.200000   25.200000   12.700000    0.500000    0.000000   \n",
       "50%      0.050000   11.810000   39.100000   23.290000    2.090000    0.000000   \n",
       "75%      0.550000   19.920000   53.050000   40.610000    7.100000    0.120000   \n",
       "max     18.740000   47.200000   82.000000   77.250000   62.100000   10.700000   \n",
       "\n",
       "           C22:1   \n",
       "count  217.000000  \n",
       "mean     0.584977  \n",
       "std      3.308917  \n",
       "min      0.000000  \n",
       "25%      0.000000  \n",
       "50%      0.000000  \n",
       "75%      0.000000  \n",
       "max     25.600000  "
      ]
     },
     "execution_count": 8,
     "metadata": {},
     "output_type": "execute_result"
    }
   ],
   "source": [
    "X.describe()"
   ]
  },
  {
   "cell_type": "code",
   "execution_count": 9,
   "metadata": {},
   "outputs": [],
   "source": [
    "# Splitting the dataset into the Training set and Test set\n",
    "\n",
    "X_train, X_test, y_train, y_test = train_test_split(X, y, test_size = 0.2, random_state = 0)\n"
   ]
  },
  {
   "cell_type": "code",
   "execution_count": 10,
   "metadata": {},
   "outputs": [
    {
     "data": {
      "text/plain": [
       "<AxesSubplot:>"
      ]
     },
     "execution_count": 10,
     "metadata": {},
     "output_type": "execute_result"
    },
    {
     "data": {
      "image/png": "[encoded data removed]",
      "text/plain": [
       "<Figure size 576x576 with 2 Axes>"
      ]
     },
     "metadata": {
      "needs_background": "light"
     },
     "output_type": "display_data"
    }
   ],
   "source": [
    "#Idenitfy corelated independent variables through heatmap\n",
    "corrmat = X_train.corr()\n",
    "fig, ax = plt.subplots()\n",
    "fig.set_size_inches(8,8)\n",
    "sns.heatmap(corrmat)"
   ]
  },
  {
   "cell_type": "code",
   "execution_count": 11,
   "metadata": {},
   "outputs": [
    {
     "data": {
      "text/plain": [
       "C14:0     173\n",
       "C16:0     173\n",
       "C18:1     173\n",
       "C18:2     173\n",
       "C18:3     173\n",
       "C20:1     173\n",
       "C22:1     173\n",
       "dtype: int64"
      ]
     },
     "execution_count": 11,
     "metadata": {},
     "output_type": "execute_result"
    }
   ],
   "source": [
    "X_train.count()"
   ]
  },
  {
   "cell_type": "code",
   "execution_count": 12,
   "metadata": {},
   "outputs": [],
   "source": [
    "\n",
    "#3 Feature Scaling\n",
    "from sklearn.preprocessing import StandardScaler\n",
    "sc_X = StandardScaler()\n",
    "sc_y = StandardScaler()\n",
    "X_train = sc_X.fit_transform(X_train)\n",
    "X_test = sc_X.fit_transform(X_test)\n"
   ]
  },
  {
   "cell_type": "code",
   "execution_count": 13,
   "metadata": {},
   "outputs": [
    {
     "name": "stdout",
     "output_type": "stream",
     "text": [
      "[[15  5]\n",
      " [ 6 18]]\n",
      "              precision    recall  f1-score   support\n",
      "\n",
      "           0       0.71      0.75      0.73        20\n",
      "           1       0.78      0.75      0.77        24\n",
      "\n",
      "    accuracy                           0.75        44\n",
      "   macro avg       0.75      0.75      0.75        44\n",
      "weighted avg       0.75      0.75      0.75        44\n",
      "\n"
     ]
    }
   ],
   "source": [
    "#lOGREGRESSION\n",
    "from sklearn.linear_model import LogisticRegression\n",
    "classifier = LogisticRegression(solver='liblinear', C=20.0,penalty='l2', tol = 0.001,random_state = 0)\n",
    "classifier.fit(X_train, y_train)\n",
    "\n",
    "y_pred = classifier.predict(X_test)\n",
    "\n",
    "from sklearn.metrics import confusion_matrix, accuracy_score\n",
    "cm = confusion_matrix(y_test, y_pred)\n",
    "print(cm)\n",
    "\n",
    "\n",
    "from sklearn.metrics import classification_report\n",
    "print(classification_report(y_test, y_pred))"
   ]
  },
  {
   "cell_type": "code",
   "execution_count": 14,
   "metadata": {},
   "outputs": [
    {
     "data": {
      "image/png": "[encoded data removed]",
      "text/plain": [
       "<Figure size 432x288 with 2 Axes>"
      ]
     },
     "metadata": {
      "needs_background": "light"
     },
     "output_type": "display_data"
    }
   ],
   "source": [
    "from sklearn.metrics import plot_confusion_matrix\n",
    "import seaborn as sns\n",
    "\n",
    "disp = plot_confusion_matrix(classifier, X_test, y_test, cmap=plt.cm.Greens)\n",
    "plt.show()\n",
    "\n",
    "#sns.heatmap(cm, annot=True,cmap='Oranges')"
   ]
  },
  {
   "cell_type": "code",
   "execution_count": 15,
   "metadata": {},
   "outputs": [
    {
     "name": "stdout",
     "output_type": "stream",
     "text": [
      "[[16  4]\n",
      " [ 9 15]]\n",
      "              precision    recall  f1-score   support\n",
      "\n",
      "           0       0.64      0.80      0.71        20\n",
      "           1       0.79      0.62      0.70        24\n",
      "\n",
      "    accuracy                           0.70        44\n",
      "   macro avg       0.71      0.71      0.70        44\n",
      "weighted avg       0.72      0.70      0.70        44\n",
      "\n"
     ]
    }
   ],
   "source": [
    "#KNN\n",
    "\n",
    "from sklearn.neighbors import KNeighborsClassifier\n",
    "classifierKNN = KNeighborsClassifier(n_neighbors =3, metric = 'minkowski', p = 2)\n",
    "classifierKNN.fit(X_train, y_train)\n",
    "\n",
    "y_pred = classifierKNN.predict(X_test)\n",
    "\n",
    "from sklearn.metrics import confusion_matrix, accuracy_score\n",
    "cm = confusion_matrix(y_test, y_pred)\n",
    "print(cm)\n",
    "accuracy_score(y_test, y_pred)\n",
    "\n",
    "from sklearn.metrics import classification_report\n",
    "print(classification_report(y_test, y_pred))"
   ]
  },
  {
   "cell_type": "code",
   "execution_count": 16,
   "metadata": {},
   "outputs": [
    {
     "name": "stdout",
     "output_type": "stream",
     "text": [
      "[[17  3]\n",
      " [ 7 17]]\n",
      "              precision    recall  f1-score   support\n",
      "\n",
      "           0       0.71      0.85      0.77        20\n",
      "           1       0.85      0.71      0.77        24\n",
      "\n",
      "    accuracy                           0.77        44\n",
      "   macro avg       0.78      0.78      0.77        44\n",
      "weighted avg       0.79      0.77      0.77        44\n",
      "\n"
     ]
    }
   ],
   "source": [
    "# Fitting Support Vector classifier to the Training set\n",
    "\n",
    "from sklearn.svm import SVC\n",
    "classifierSVC = SVC(kernel = 'poly', C=20, random_state = 0, probability = True)\n",
    "classifierSVC.fit(X_train, y_train)\n",
    "\n",
    "y_predSVC = classifierSVC.predict(X_test)\n",
    "\n",
    "from sklearn.metrics import confusion_matrix, accuracy_score\n",
    "cm = confusion_matrix(y_test, y_predSVC)\n",
    "print(cm)\n",
    "accuracy_score(y_test, y_predSVC)\n",
    "\n",
    "from sklearn.metrics import classification_report\n",
    "print(classification_report(y_test, y_predSVC))"
   ]
  },
  {
   "cell_type": "code",
   "execution_count": 17,
   "metadata": {},
   "outputs": [
    {
     "name": "stdout",
     "output_type": "stream",
     "text": [
      "[[17  3]\n",
      " [10 14]]\n",
      "              precision    recall  f1-score   support\n",
      "\n",
      "           0       0.63      0.85      0.72        20\n",
      "           1       0.82      0.58      0.68        24\n",
      "\n",
      "    accuracy                           0.70        44\n",
      "   macro avg       0.73      0.72      0.70        44\n",
      "weighted avg       0.74      0.70      0.70        44\n",
      "\n"
     ]
    }
   ],
   "source": [
    "# Fitting DT classifier to the Training set\n",
    "\n",
    "from sklearn.tree import DecisionTreeClassifier\n",
    "from sklearn.model_selection import GridSearchCV\n",
    "\n",
    "clfDT = DecisionTreeClassifier(max_depth=6,criterion='entropy',\n",
    "    splitter='best', random_state=0)\n",
    "clfDT.fit(X_train, y_train)\n",
    "\n",
    "y_predDT = clfDT.predict(X_test)\n",
    "\n",
    "from sklearn.metrics import confusion_matrix, accuracy_score\n",
    "cm = confusion_matrix(y_test, y_predDT)\n",
    "print(cm)\n",
    "\n",
    "\n",
    "from sklearn.metrics import classification_report\n",
    "print(classification_report(y_test, y_predDT))"
   ]
  },
  {
   "cell_type": "markdown",
   "metadata": {},
   "source": [
    "# Optimized SVC and DT via Grid Seacrh"
   ]
  },
  {
   "cell_type": "code",
   "execution_count": 26,
   "metadata": {},
   "outputs": [
    {
     "name": "stdout",
     "output_type": "stream",
     "text": [
      "Fitting 3 folds for each of 27 candidates, totalling 81 fits\n"
     ]
    },
    {
     "name": "stderr",
     "output_type": "stream",
     "text": [
      "[Parallel(n_jobs=-1)]: Using backend LokyBackend with 8 concurrent workers.\n",
      "[Parallel(n_jobs=-1)]: Done  34 tasks      | elapsed:  1.6min\n",
      "[Parallel(n_jobs=-1)]: Done  81 out of  81 | elapsed: 11.7min finished\n"
     ]
    },
    {
     "name": "stdout",
     "output_type": "stream",
     "text": [
      "Best parameters:\n",
      "{'C': 1, 'gamma': 0.01, 'kernel': 'poly'}\n"
     ]
    }
   ],
   "source": [
    "#Grid Search for SVC\n",
    "\n",
    "from sklearn.model_selection import GridSearchCV\n",
    "\n",
    "X_train, X_test, y_train, y_test = train_test_split(X, y, test_size = 0.2,random_state=22)\n",
    "model = SVC()\n",
    "param_grid = {'C': [0.1, 1, 10], \n",
    "              'gamma': [1, 0.1, 0.01],\n",
    "             'kernel': ['linear','poly','rbf']} \n",
    "\n",
    "\n",
    "tuning = GridSearchCV(estimator=model, \n",
    "                          param_grid = param_grid,\n",
    "                          cv=3,\n",
    "                          verbose=1,\n",
    "                          n_jobs=-1)\n",
    "    \n",
    "tuning.fit(X_train, y_train)\n",
    "\n",
    "print(\"Best parameters:\")\n",
    "print(tuning.best_params_)"
   ]
  },
  {
   "cell_type": "code",
   "execution_count": 19,
   "metadata": {},
   "outputs": [
    {
     "name": "stdout",
     "output_type": "stream",
     "text": [
      "[[ 0 20]\n",
      " [ 0 24]]\n",
      "              precision    recall  f1-score   support\n",
      "\n",
      "           0       0.00      0.00      0.00        20\n",
      "           1       0.55      1.00      0.71        24\n",
      "\n",
      "    accuracy                           0.55        44\n",
      "   macro avg       0.27      0.50      0.35        44\n",
      "weighted avg       0.30      0.55      0.39        44\n",
      "\n"
     ]
    },
    {
     "name": "stderr",
     "output_type": "stream",
     "text": [
      "Precision and F-score are ill-defined and being set to 0.0 in labels with no predicted samples. Use `zero_division` parameter to control this behavior.\n",
      "Precision and F-score are ill-defined and being set to 0.0 in labels with no predicted samples. Use `zero_division` parameter to control this behavior.\n",
      "Precision and F-score are ill-defined and being set to 0.0 in labels with no predicted samples. Use `zero_division` parameter to control this behavior.\n"
     ]
    }
   ],
   "source": [
    "from sklearn.svm import SVC\n",
    "classifierSVC = SVC(kernel = 'poly', C=1, gamma= 0.01, random_state = 0)\n",
    "classifierSVC.fit(X_train, y_train)\n",
    "\n",
    "y_predSVC = classifierSVC.predict(X_test)\n",
    "\n",
    "cm = confusion_matrix(y_test, y_predSVC)\n",
    "print(cm)\n",
    "\n",
    "from sklearn.metrics import classification_report\n",
    "print(classification_report(y_test, y_predSVC))"
   ]
  },
  {
   "cell_type": "code",
   "execution_count": 20,
   "metadata": {},
   "outputs": [
    {
     "data": {
      "image/png": "[encoded data removed]",
      "text/plain": [
       "<Figure size 432x288 with 2 Axes>"
      ]
     },
     "metadata": {
      "needs_background": "light"
     },
     "output_type": "display_data"
    }
   ],
   "source": [
    "from sklearn.metrics import plot_confusion_matrix\n",
    "import seaborn as sns\n",
    "\n",
    "disp = plot_confusion_matrix(classifierSVC, X_test, y_test, cmap=plt.cm.Greens)\n",
    "plt.show()\n",
    "\n",
    "#plt.savefig(\"SVC_CM_ASTM.png\",dpi=300)"
   ]
  },
  {
   "cell_type": "code",
   "execution_count": null,
   "metadata": {},
   "outputs": [],
   "source": [
    "#Grid Search for DT\n",
    "\n",
    "from sklearn.model_selection import GridSearchCV\n",
    "\n",
    "X_train, X_test, y_train, y_test = train_test_split(X, y, test_size = 0.2,random_state=22)\n",
    "model =  DecisionTreeClassifier()\n",
    "param_grid = {'criterion': ['gini','entropy'], \n",
    "              'max_depth': range(1,10),\n",
    "              'min_samples_split': range(1,5),\n",
    "            'min_samples_leaf': range(1,5)} \n",
    "\n",
    "\n",
    "tuning = GridSearchCV(estimator=model, \n",
    "                          param_grid = param_grid,\n",
    "                          cv=3,\n",
    "                          verbose=1,\n",
    "                          n_jobs=-1)\n",
    "    \n",
    "tuning.fit(X_train, y_train)\n",
    "\n",
    "print(\"Best parameters:\")\n",
    "print(tuning.best_params_)"
   ]
  },
  {
   "cell_type": "code",
   "execution_count": 27,
   "metadata": {},
   "outputs": [
    {
     "name": "stdout",
     "output_type": "stream",
     "text": [
      "[[16  4]\n",
      " [10 14]]\n",
      "              precision    recall  f1-score   support\n",
      "\n",
      "           0       0.62      0.80      0.70        20\n",
      "           1       0.78      0.58      0.67        24\n",
      "\n",
      "    accuracy                           0.68        44\n",
      "   macro avg       0.70      0.69      0.68        44\n",
      "weighted avg       0.70      0.68      0.68        44\n",
      "\n"
     ]
    }
   ],
   "source": [
    "from sklearn.tree import DecisionTreeClassifier\n",
    "\n",
    "clf = DecisionTreeClassifier(max_depth=5,criterion='gini',\n",
    "    min_samples_leaf = 1, min_samples_split = 2, random_state=0)\n",
    "\n",
    "clf.fit(X_train, y_train)\n",
    "\n",
    "y_predDT = clf.predict(X_test)\n",
    "\n",
    "from sklearn.metrics import confusion_matrix, accuracy_score\n",
    "cm = confusion_matrix(y_test, y_predDT)\n",
    "print(cm)\n",
    "\n",
    "from sklearn.metrics import classification_report\n",
    "print(classification_report(y_test, y_predDT))"
   ]
  },
  {
   "cell_type": "code",
   "execution_count": 28,
   "metadata": {},
   "outputs": [
    {
     "data": {
      "image/png": "[encoded data removed]",
      "text/plain": [
       "<Figure size 432x288 with 2 Axes>"
      ]
     },
     "metadata": {
      "needs_background": "light"
     },
     "output_type": "display_data"
    }
   ],
   "source": [
    "from sklearn.metrics import plot_confusion_matrix\n",
    "import seaborn as sns\n",
    "\n",
    "disp = plot_confusion_matrix(clf, X_test, y_test, cmap=plt.cm.Greens)\n",
    "plt.show()\n",
    "\n",
    "#plt.savefig(\"DT_CM_EN.png\",dpi=300)"
   ]
  },
  {
   "cell_type": "markdown",
   "metadata": {},
   "source": [
    "# Perform Causal analytics - Accumulated Local Effects"
   ]
  },
  {
   "cell_type": "code",
   "execution_count": 22,
   "metadata": {},
   "outputs": [
    {
     "data": {
      "text/plain": [
       "Index(['C14:0 ', 'C16:0 ', 'C18:1 ', 'C18:2 ', 'C18:3 ', 'C20:1 ', 'C22:1 '], dtype='object')"
      ]
     },
     "execution_count": 22,
     "metadata": {},
     "output_type": "execute_result"
    }
   ],
   "source": [
    "names= data.columns[0:7]\n",
    "names"
   ]
  },
  {
   "cell_type": "code",
   "execution_count": 23,
   "metadata": {},
   "outputs": [],
   "source": [
    "from alibi.explainers import ALE, plot_ale"
   ]
  },
  {
   "cell_type": "code",
   "execution_count": 24,
   "metadata": {},
   "outputs": [
    {
     "ename": "AttributeError",
     "evalue": "'numpy.ndarray' object has no attribute 'columns'",
     "output_type": "error",
     "traceback": [
      "\u001b[1;31m---------------------------------------------------------------------------\u001b[0m",
      "\u001b[1;31mAttributeError\u001b[0m                            Traceback (most recent call last)",
      "\u001b[1;32m<ipython-input-24-eb07db5683ff>\u001b[0m in \u001b[0;36m<module>\u001b[1;34m\u001b[0m\n\u001b[1;32m----> 1\u001b[1;33m \u001b[0msvc_ale\u001b[0m \u001b[1;33m=\u001b[0m \u001b[0mALE\u001b[0m\u001b[1;33m(\u001b[0m\u001b[0mclassifierSVC\u001b[0m\u001b[1;33m.\u001b[0m\u001b[0mpredict\u001b[0m\u001b[1;33m,\u001b[0m \u001b[0mfeature_names\u001b[0m \u001b[1;33m=\u001b[0m \u001b[0mX_train\u001b[0m\u001b[1;33m.\u001b[0m\u001b[0mcolumns\u001b[0m\u001b[1;33m,\u001b[0m \u001b[0mtarget_names\u001b[0m \u001b[1;33m=\u001b[0m \u001b[1;33m[\u001b[0m\u001b[1;34m'OS_EN'\u001b[0m\u001b[1;33m]\u001b[0m\u001b[1;33m)\u001b[0m\u001b[1;33m\u001b[0m\u001b[1;33m\u001b[0m\u001b[0m\n\u001b[0m\u001b[0;32m      2\u001b[0m \u001b[0mSVC_exp\u001b[0m \u001b[1;33m=\u001b[0m \u001b[0msvc_ale\u001b[0m\u001b[1;33m.\u001b[0m\u001b[0mexplain\u001b[0m\u001b[1;33m(\u001b[0m\u001b[0mnp\u001b[0m\u001b[1;33m.\u001b[0m\u001b[0marray\u001b[0m\u001b[1;33m(\u001b[0m\u001b[0mX_train\u001b[0m\u001b[1;33m)\u001b[0m\u001b[1;33m)\u001b[0m\u001b[1;33m\u001b[0m\u001b[1;33m\u001b[0m\u001b[0m\n",
      "\u001b[1;31mAttributeError\u001b[0m: 'numpy.ndarray' object has no attribute 'columns'"
     ]
    }
   ],
   "source": [
    "svc_ale = ALE(classifierSVC.predict, feature_names = X_train.columns, target_names = ['OS_EN'])\n",
    "SVC_exp = svc_ale.explain(np.array(X_train))"
   ]
  },
  {
   "cell_type": "code",
   "execution_count": 35,
   "metadata": {},
   "outputs": [
    {
     "name": "stderr",
     "output_type": "stream",
     "text": [
      "No handles with labels found to put in legend.\n"
     ]
    },
    {
     "data": {
      "image/png": "[encoded data removed]",
      "text/plain": [
       "<Figure size 432x288 with 1 Axes>"
      ]
     },
     "metadata": {
      "needs_background": "light"
     },
     "output_type": "display_data"
    }
   ],
   "source": [
    "import matplotlib\n",
    "import matplotlib.pyplot as plt\n",
    "import matplotlib.ticker as ticker\n",
    "\n",
    "from cycler import cycler\n",
    "matplotlib.rcParams['font.sans-serif'] = 'Times New Roman'\n",
    "matplotlib.rcParams['axes.prop_cycle'] =  cycler(color =['g'])\n",
    "\n",
    "\n",
    "label_size = 20\n",
    "matplotlib.rcParams['xtick.labelsize'] = label_size \n",
    "matplotlib.rcParams['ytick.labelsize'] = label_size \n",
    "\n",
    "\n",
    "#matplotlib.rcParams['legend.loc'] = []\n",
    "\n",
    "tick_spacing = 1\n",
    "\n",
    "fig, ax = plt.subplots()\n",
    "\n",
    "plot_ale(SVC_exp,features = ['C22:1 '],ax=ax,line_kw={'label':'_nolegend_'})\n",
    "ax.set_xlabel('')\n",
    "ax.set_ylabel('')\n",
    "ax.set_xlim([0, 100])\n",
    "ax.set_ylim([-1, 1])\n",
    "ax.yaxis.set_major_locator(ticker.MultipleLocator(tick_spacing))\n",
    "\n",
    "#plt.savefig(\"OS_22_1.png\",dpi=300)"
   ]
  },
  {
   "cell_type": "markdown",
   "metadata": {},
   "source": [
    "# Perform optimization - Prescriptive analytics"
   ]
  },
  {
   "cell_type": "code",
   "execution_count": 39,
   "metadata": {},
   "outputs": [],
   "source": [
    "from pyswarm import pso"
   ]
  },
  {
   "cell_type": "code",
   "execution_count": 71,
   "metadata": {},
   "outputs": [
    {
     "name": "stdout",
     "output_type": "stream",
     "text": [
      "Stopping search: maximum iterations reached --> 200\n",
      "[1.29200653e+01 3.94338376e-02 6.09041258e+01 1.05797698e+01\n",
      " 1.24851937e+01 1.77128581e+00 1.48496675e+00] -1.0\n",
      "100.18484095111242\n",
      "Stopping search: maximum iterations reached --> 200\n",
      "[16.93379664  3.69415282 45.2675835  24.26505826  3.74026311  1.42763964\n",
      "  2.20960198] -1.0\n",
      "97.538095944401\n",
      "Stopping search: maximum iterations reached --> 200\n",
      "[ 5.48370692  1.14693452 58.71715588 28.35391203  1.29531738  0.47048462\n",
      "  3.03093531] -1.0\n",
      "98.49844666626855\n",
      "Stopping search: maximum iterations reached --> 200\n",
      "[ 8.31966157  1.42119862 47.97774222 37.71074975  1.02564379  0.11456499\n",
      "  2.23990034] -1.0\n",
      "98.80946126717691\n",
      "Stopping search: maximum iterations reached --> 200\n",
      "[10.41466392  4.78197599 52.85023799 15.37796802 11.31280218  0.22134397\n",
      "  2.31606416] -1.0\n",
      "97.27505621728012\n",
      "Stopping search: maximum iterations reached --> 200\n",
      "[16.85258136  2.9886654  30.45540817 39.5282714   5.55385853  0.85204602\n",
      "  1.24548318] -1.0\n",
      "97.47631405421563\n",
      "Stopping search: maximum iterations reached --> 200\n",
      "[13.79914746  1.52898871 57.07917602 15.56794855  8.55760412  0.38060623\n",
      "  3.84545775] -1.0\n",
      "100.75892883017595\n",
      "Stopping search: maximum iterations reached --> 200\n",
      "[ 9.37025496  0.77081989 54.40908828 20.45098192  9.47850934  1.62389971\n",
      "  1.01072928] -1.0\n",
      "97.11428337696222\n",
      "Stopping search: maximum iterations reached --> 200\n",
      "[ 7.17581462  3.08944181 48.82165412 20.91890449 14.21972531  2.27481182\n",
      "  2.68151491] -1.0\n",
      "99.18186708894203\n",
      "Stopping search: maximum iterations reached --> 200\n",
      "[9.84351195e+00 2.43305501e+00 4.90956514e+01 2.73295290e+01\n",
      " 7.17271998e+00 3.10801896e-02 3.22643044e+00] -1.0\n",
      "99.13197802760959\n"
     ]
    }
   ],
   "source": [
    "def objective(x):\n",
    "    x1=x[0]\n",
    "    x2=x[1]\n",
    "    x3=x[2]\n",
    "    x4=x[3]\n",
    "    x5=x[4]\n",
    "    x6=x[5]\n",
    "    x7=x[6]\n",
    "    \n",
    "   \n",
    "    sum = 100-(x[0]+x[1]+x[2]+x[3]+x[4]+x[5]+x[6])\n",
    "    \n",
    "    if sum >3:\n",
    "        CV = 1000000000000\n",
    "    elif sum <-1:\n",
    "        CV = 1000000000000\n",
    "    else:\n",
    "        CV = 0  \n",
    "    \n",
    "    X_optPSO = np.array ([x1,x2,x3,x4,x5,x6,x7]).reshape(1, -1)\n",
    "    constraint_violoation = CV\n",
    "    \n",
    "    y_predoptPSO = classifierSVC.predict(X_optPSO)\n",
    "    return -(y_predoptPSO)+ constraint_violoation\n",
    "    \n",
    "\n",
    "lb = [2, 0, 0, 0,  0 ,0, 1]\n",
    "ub = [17, 5, 70,40, 15, 3,4]\n",
    "      \n",
    "\n",
    "#Run multiple rounds of optimization to get a decent sense of the values \n",
    "for fopt in range(10):\n",
    "    xopt, fopt = pso(objective, lb, ub, maxiter=200)\n",
    "    total = np.sum(xopt)\n",
    "    \n",
    "    print(xopt, fopt)\n",
    "    print(total)\n",
    " "
   ]
  }
 ],
 "metadata": {
  "kernelspec": {
   "display_name": "Python 3",
   "language": "python",
   "name": "python3"
  },
  "language_info": {
   "codemirror_mode": {
    "name": "ipython",
    "version": 3
   },
   "file_extension": ".py",
   "mimetype": "text/x-python",
   "name": "python",
   "nbconvert_exporter": "python",
   "pygments_lexer": "ipython3",
   "version": "3.8.5"
  }
 },
 "nbformat": 4,
 "nbformat_minor": 2
}
